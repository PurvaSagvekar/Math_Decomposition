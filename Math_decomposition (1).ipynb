{
 "cells": [
  {
   "cell_type": "code",
   "execution_count": 1,
   "id": "03dd671a-922e-4312-a78c-ddd608cd7c38",
   "metadata": {},
   "outputs": [],
   "source": [
    "#Singular value Decomposition"
   ]
  },
  {
   "cell_type": "code",
   "execution_count": 2,
   "id": "58c2485d-6582-4897-8f55-616cba608a9f",
   "metadata": {},
   "outputs": [],
   "source": [
    "import numpy as np\n",
    "from numpy.linalg import svd"
   ]
  },
  {
   "cell_type": "code",
   "execution_count": 3,
   "id": "96d31761-2ff7-4632-9cba-fcdc7fdc572b",
   "metadata": {},
   "outputs": [],
   "source": [
    "A = np.array([[4,8,7],[2,9,1],[0,3,5]])"
   ]
  },
  {
   "cell_type": "code",
   "execution_count": 4,
   "id": "9f5305f5-1735-4f26-adff-efa074fcf445",
   "metadata": {},
   "outputs": [
    {
     "data": {
      "text/plain": [
       "array([[4, 8, 7],\n",
       "       [2, 9, 1],\n",
       "       [0, 3, 5]])"
      ]
     },
     "execution_count": 4,
     "metadata": {},
     "output_type": "execute_result"
    }
   ],
   "source": [
    "A"
   ]
  },
  {
   "cell_type": "code",
   "execution_count": 5,
   "id": "43b3a33a-815e-4c2b-8649-9a5886bbb006",
   "metadata": {},
   "outputs": [
    {
     "data": {
      "text/plain": [
       "(3, 3)"
      ]
     },
     "execution_count": 5,
     "metadata": {},
     "output_type": "execute_result"
    }
   ],
   "source": [
    "A.shape"
   ]
  },
  {
   "cell_type": "code",
   "execution_count": 6,
   "id": "612b4c1c-e58a-4f67-81df-b1cb82c7128a",
   "metadata": {},
   "outputs": [],
   "source": [
    "U, V, DT = svd(A)"
   ]
  },
  {
   "cell_type": "code",
   "execution_count": 7,
   "id": "a581953a-920c-4c74-bc70-32294c413524",
   "metadata": {},
   "outputs": [
    {
     "name": "stdout",
     "output_type": "stream",
     "text": [
      "Origional Matrx:\n",
      " [[4 8 7]\n",
      " [2 9 1]\n",
      " [0 3 5]]\n"
     ]
    }
   ],
   "source": [
    "print('Origional Matrx:\\n', A)"
   ]
  },
  {
   "cell_type": "code",
   "execution_count": 8,
   "id": "1d820578-16dd-4a53-8743-282ef7880780",
   "metadata": {},
   "outputs": [
    {
     "name": "stdout",
     "output_type": "stream",
     "text": [
      "Left Singular Matrx:\n",
      " [[ 0.75309124  0.33781831  0.56456388]\n",
      " [ 0.5661808  -0.76983773 -0.29460001]\n",
      " [ 0.33510129  0.54150592 -0.77102429]]\n"
     ]
    }
   ],
   "source": [
    "print('Left Singular Matrx:\\n', U)"
   ]
  },
  {
   "cell_type": "code",
   "execution_count": 9,
   "id": "8fb4806f-6460-4133-920e-916a617cf3bc",
   "metadata": {},
   "outputs": [
    {
     "name": "stdout",
     "output_type": "stream",
     "text": [
      "Singular Matrx:\n",
      " [14.85464512  5.03130077  1.73940531]\n"
     ]
    }
   ],
   "source": [
    "print('Singular Matrx:\\n', V)"
   ]
  },
  {
   "cell_type": "code",
   "execution_count": 10,
   "id": "c505b49e-f152-4a24-947b-9fbce85e02d2",
   "metadata": {},
   "outputs": [
    {
     "name": "stdout",
     "output_type": "stream",
     "text": [
      "Right Singular Matrx:\n",
      " [[ 0.27901889  0.81628749  0.50578966]\n",
      " [-0.03744603 -0.51705821  0.85513075]\n",
      " [ 0.95955524 -0.25753745 -0.11370228]]\n"
     ]
    }
   ],
   "source": [
    "print('Right Singular Matrx:\\n', DT)"
   ]
  },
  {
   "cell_type": "code",
   "execution_count": 11,
   "id": "58818b91-d0d2-481e-a492-2edefd4b9af3",
   "metadata": {},
   "outputs": [],
   "source": [
    "#Reconstruct the Matrix\n",
    "sigma = np.zeros((A.shape[0],A.shape[1]))"
   ]
  },
  {
   "cell_type": "code",
   "execution_count": 12,
   "id": "9f39d2d2-ec0a-4877-bd23-07497977536f",
   "metadata": {},
   "outputs": [
    {
     "data": {
      "text/plain": [
       "array([[0., 0., 0.],\n",
       "       [0., 0., 0.],\n",
       "       [0., 0., 0.]])"
      ]
     },
     "execution_count": 12,
     "metadata": {},
     "output_type": "execute_result"
    }
   ],
   "source": [
    "sigma"
   ]
  },
  {
   "cell_type": "code",
   "execution_count": 13,
   "id": "5d35ba63-a72f-4195-8ce1-0c3a6cfa9c90",
   "metadata": {},
   "outputs": [],
   "source": [
    "np.fill_diagonal(sigma,V)"
   ]
  },
  {
   "cell_type": "code",
   "execution_count": 14,
   "id": "f2f536d5-3c03-486c-ac69-4a17d808fc7e",
   "metadata": {},
   "outputs": [
    {
     "data": {
      "text/plain": [
       "array([[14.85464512,  0.        ,  0.        ],\n",
       "       [ 0.        ,  5.03130077,  0.        ],\n",
       "       [ 0.        ,  0.        ,  1.73940531]])"
      ]
     },
     "execution_count": 14,
     "metadata": {},
     "output_type": "execute_result"
    }
   ],
   "source": [
    "sigma"
   ]
  },
  {
   "cell_type": "code",
   "execution_count": 15,
   "id": "6b2307d4-1fe8-43c7-9d36-052d5ee4b763",
   "metadata": {},
   "outputs": [
    {
     "data": {
      "text/plain": [
       "array([[ 4.14472658, 12.12566106,  7.51332598],\n",
       "       [-0.18840223, -2.60147535,  4.30242002],\n",
       "       [ 1.66905548, -0.447962  , -0.19777435]])"
      ]
     },
     "execution_count": 15,
     "metadata": {},
     "output_type": "execute_result"
    }
   ],
   "source": [
    "np.dot(sigma, DT)"
   ]
  },
  {
   "cell_type": "code",
   "execution_count": 16,
   "id": "8573a167-d192-4598-a157-11865ab552ef",
   "metadata": {},
   "outputs": [],
   "source": [
    "A_reconstructed = np.dot(U, np.dot(sigma, DT))"
   ]
  },
  {
   "cell_type": "code",
   "execution_count": 17,
   "id": "dbd47853-699c-49ef-84b7-d05182d588b7",
   "metadata": {},
   "outputs": [
    {
     "data": {
      "text/plain": [
       "array([[ 4.00000000e+00,  8.00000000e+00,  7.00000000e+00],\n",
       "       [ 2.00000000e+00,  9.00000000e+00,  1.00000000e+00],\n",
       "       [-1.33198997e-16,  3.00000000e+00,  5.00000000e+00]])"
      ]
     },
     "execution_count": 17,
     "metadata": {},
     "output_type": "execute_result"
    }
   ],
   "source": [
    "A_reconstructed"
   ]
  },
  {
   "cell_type": "code",
   "execution_count": 18,
   "id": "a541f3e7-ef3f-41e1-89d6-79352dbe16cc",
   "metadata": {},
   "outputs": [
    {
     "data": {
      "text/plain": [
       "dtype('float64')"
      ]
     },
     "execution_count": 18,
     "metadata": {},
     "output_type": "execute_result"
    }
   ],
   "source": [
    "A_reconstructed.dtype"
   ]
  },
  {
   "cell_type": "code",
   "execution_count": 19,
   "id": "a7b054d6-e909-4435-b9dc-e32ba66aa6cb",
   "metadata": {},
   "outputs": [
    {
     "data": {
      "text/plain": [
       "array([[3, 7, 6],\n",
       "       [1, 8, 0],\n",
       "       [0, 2, 4]], dtype=int16)"
      ]
     },
     "execution_count": 19,
     "metadata": {},
     "output_type": "execute_result"
    }
   ],
   "source": [
    "A_reconstructed.astype(np.int16)"
   ]
  },
  {
   "cell_type": "code",
   "execution_count": 20,
   "id": "d8459c7f-918d-4bd7-b695-4d7326ede0f2",
   "metadata": {},
   "outputs": [
    {
     "data": {
      "text/plain": [
       "array([[4, 8, 7],\n",
       "       [2, 9, 1],\n",
       "       [0, 3, 5]])"
      ]
     },
     "execution_count": 20,
     "metadata": {},
     "output_type": "execute_result"
    }
   ],
   "source": [
    "A"
   ]
  },
  {
   "cell_type": "code",
   "execution_count": 21,
   "id": "72d8b73a-7bb2-4ace-b8e6-95531e6a2981",
   "metadata": {},
   "outputs": [],
   "source": [
    "#Standardization"
   ]
  },
  {
   "cell_type": "code",
   "execution_count": 22,
   "id": "a24f1a1e-b2f4-4e98-bd25-5845dae8e90f",
   "metadata": {},
   "outputs": [],
   "source": [
    "D = np.array([[2,56000,56],[7,45780,61],[6,67800,66],[5,78234,64],[4,63400,72]])"
   ]
  },
  {
   "cell_type": "code",
   "execution_count": 23,
   "id": "19f95e19-1231-41cd-a9cf-6596f18a928c",
   "metadata": {},
   "outputs": [
    {
     "data": {
      "text/plain": [
       "array([[    2, 56000,    56],\n",
       "       [    7, 45780,    61],\n",
       "       [    6, 67800,    66],\n",
       "       [    5, 78234,    64],\n",
       "       [    4, 63400,    72]])"
      ]
     },
     "execution_count": 23,
     "metadata": {},
     "output_type": "execute_result"
    }
   ],
   "source": [
    "D"
   ]
  },
  {
   "cell_type": "code",
   "execution_count": 24,
   "id": "c88ae408-f7aa-490d-91c5-0ba28c95aca7",
   "metadata": {},
   "outputs": [
    {
     "data": {
      "text/plain": [
       "1.7204650534085253"
      ]
     },
     "execution_count": 24,
     "metadata": {},
     "output_type": "execute_result"
    }
   ],
   "source": [
    "D[:,0].std()"
   ]
  },
  {
   "cell_type": "code",
   "execution_count": 25,
   "id": "61b46484-f42d-42b3-ba35-834b7e1e9b8b",
   "metadata": {},
   "outputs": [
    {
     "data": {
      "text/plain": [
       "10935.596890888033"
      ]
     },
     "execution_count": 25,
     "metadata": {},
     "output_type": "execute_result"
    }
   ],
   "source": [
    "D[:,1].std()"
   ]
  },
  {
   "cell_type": "code",
   "execution_count": 26,
   "id": "e1c5c3e3-e022-4431-8023-9247783a3826",
   "metadata": {},
   "outputs": [
    {
     "data": {
      "text/plain": [
       "5.30659966456864"
      ]
     },
     "execution_count": 26,
     "metadata": {},
     "output_type": "execute_result"
    }
   ],
   "source": [
    "D[:,2].std()"
   ]
  },
  {
   "cell_type": "code",
   "execution_count": 27,
   "id": "755628cb-8ac0-4280-ada7-cf9a809fcdf6",
   "metadata": {},
   "outputs": [
    {
     "data": {
      "text/plain": [
       "array([1.72046505e+00, 1.09355969e+04, 5.30659966e+00])"
      ]
     },
     "execution_count": 27,
     "metadata": {},
     "output_type": "execute_result"
    }
   ],
   "source": [
    "np.std(D,axis=0)"
   ]
  },
  {
   "cell_type": "code",
   "execution_count": 28,
   "id": "5481dc9f-a339-4d83-8e37-ec193465d296",
   "metadata": {},
   "outputs": [],
   "source": [
    "std = np.std(D, axis = 0)\n",
    "mean = np.mean(D, axis = 0)"
   ]
  },
  {
   "cell_type": "code",
   "execution_count": 29,
   "id": "97c2b52e-cdc2-4e97-bc10-bb8fcf2d76fb",
   "metadata": {},
   "outputs": [
    {
     "data": {
      "text/plain": [
       "array([[-1.62746694, -0.57086962, -1.4698678 ],\n",
       "       [ 1.27872403, -1.50543223, -0.52764485],\n",
       "       [ 0.69748583,  0.50817528,  0.4145781 ],\n",
       "       [ 0.11624764,  1.46230701,  0.03768892],\n",
       "       [-0.46499055,  0.10581956,  1.54524564]])"
      ]
     },
     "execution_count": 29,
     "metadata": {},
     "output_type": "execute_result"
    }
   ],
   "source": [
    "D_standardized = (D-mean) / std\n",
    "D_standardized"
   ]
  },
  {
   "cell_type": "code",
   "execution_count": 30,
   "id": "5725d388-d0f6-49a4-b7f2-537e07e4da3b",
   "metadata": {},
   "outputs": [
    {
     "data": {
      "text/plain": [
       "array([1., 1., 1.])"
      ]
     },
     "execution_count": 30,
     "metadata": {},
     "output_type": "execute_result"
    }
   ],
   "source": [
    "np.std(D_standardized, axis = 0)"
   ]
  },
  {
   "cell_type": "code",
   "execution_count": 31,
   "id": "b30a7853-cc3d-4f35-85e7-a60a0f5e1eb3",
   "metadata": {},
   "outputs": [
    {
     "data": {
      "text/plain": [
       "array([ 1.44328993e-16, -2.49800181e-16,  5.32907052e-16])"
      ]
     },
     "execution_count": 31,
     "metadata": {},
     "output_type": "execute_result"
    }
   ],
   "source": [
    "np.mean(D_standardized, axis = 0)"
   ]
  },
  {
   "cell_type": "code",
   "execution_count": 32,
   "id": "008bb325-88eb-4898-98d7-75c2ed261db9",
   "metadata": {},
   "outputs": [],
   "source": [
    "#Covarience"
   ]
  },
  {
   "cell_type": "code",
   "execution_count": 33,
   "id": "877cdecb-cd5b-4d9f-a833-c601a39519f4",
   "metadata": {},
   "outputs": [],
   "source": [
    "cov = np.cov(D_standardized)"
   ]
  },
  {
   "cell_type": "code",
   "execution_count": 34,
   "id": "42dd2cc2-0afc-4c3c-9e14-1cc883797bcf",
   "metadata": {},
   "outputs": [
    {
     "data": {
      "text/plain": [
       "array([[ 0.32490552, -0.68424055, -0.02674456,  0.44843184, -0.06235225],\n",
       "       [-0.68424055,  1.99509379,  0.15776462, -0.83311786, -0.6355    ],\n",
       "       [-0.02674456,  0.15776462,  0.02077262, -0.01654302, -0.13524966],\n",
       "       [ 0.44843184, -0.83311786, -0.01654302,  0.641264  , -0.24003495],\n",
       "       [-0.06235225, -0.6355    , -0.13524966, -0.24003495,  1.07313687]])"
      ]
     },
     "execution_count": 34,
     "metadata": {},
     "output_type": "execute_result"
    }
   ],
   "source": [
    "cov"
   ]
  },
  {
   "cell_type": "code",
   "execution_count": 35,
   "id": "c8c2a127-e4a8-4703-b935-4e7a16596b32",
   "metadata": {},
   "outputs": [],
   "source": [
    "#Principal Component Analysis"
   ]
  },
  {
   "cell_type": "code",
   "execution_count": 36,
   "id": "6310a6b9-d78f-4bdb-89c7-031f1c326ef5",
   "metadata": {},
   "outputs": [],
   "source": [
    "D = np.array([[2,56000,56],[7,45780,61],[6,67800,66],[5,78234,64],[4,63400,72]])"
   ]
  },
  {
   "cell_type": "code",
   "execution_count": 37,
   "id": "67be41ca-1885-4c0b-90d1-5e3d8aba2507",
   "metadata": {},
   "outputs": [
    {
     "data": {
      "text/plain": [
       "array([[    2, 56000,    56],\n",
       "       [    7, 45780,    61],\n",
       "       [    6, 67800,    66],\n",
       "       [    5, 78234,    64],\n",
       "       [    4, 63400,    72]])"
      ]
     },
     "execution_count": 37,
     "metadata": {},
     "output_type": "execute_result"
    }
   ],
   "source": [
    "D"
   ]
  },
  {
   "cell_type": "code",
   "execution_count": 38,
   "id": "b2c46a16-1b58-47ec-9ea6-3788f880a4ca",
   "metadata": {},
   "outputs": [],
   "source": [
    "std = np.std(D, axis = 0)\n",
    "mean = np.mean(D, axis = 0)\n",
    "\n",
    "D_standardized = (D-mean) / std\n"
   ]
  },
  {
   "cell_type": "code",
   "execution_count": 39,
   "id": "6b04836f-9394-412e-ae4e-c42ffaad4122",
   "metadata": {},
   "outputs": [
    {
     "data": {
      "text/plain": [
       "array([[-1.62746694, -0.57086962, -1.4698678 ],\n",
       "       [ 1.27872403, -1.50543223, -0.52764485],\n",
       "       [ 0.69748583,  0.50817528,  0.4145781 ],\n",
       "       [ 0.11624764,  1.46230701,  0.03768892],\n",
       "       [-0.46499055,  0.10581956,  1.54524564]])"
      ]
     },
     "execution_count": 39,
     "metadata": {},
     "output_type": "execute_result"
    }
   ],
   "source": [
    "D_standardized"
   ]
  },
  {
   "cell_type": "code",
   "execution_count": 40,
   "id": "69adc6ed-7cd1-43da-9b7f-946d31264951",
   "metadata": {},
   "outputs": [],
   "source": [
    "#Compute the covariance Matrix"
   ]
  },
  {
   "cell_type": "code",
   "execution_count": 41,
   "id": "23d2ff00-e284-47cc-a0a3-dba1e34935a0",
   "metadata": {},
   "outputs": [],
   "source": [
    "covariance_Matrix = np.cov(D_standardized.T)"
   ]
  },
  {
   "cell_type": "code",
   "execution_count": 42,
   "id": "fd2ed4af-3c2d-48ac-8896-22666b838e68",
   "metadata": {},
   "outputs": [
    {
     "name": "stdout",
     "output_type": "stream",
     "text": [
      "covariance_Matrix:\n",
      " [[ 1.25       -0.13018281  0.32311702]\n",
      " [-0.13018281  1.25        0.51568619]\n",
      " [ 0.32311702  0.51568619  1.25      ]]\n"
     ]
    }
   ],
   "source": [
    "print('covariance_Matrix:\\n', covariance_Matrix)"
   ]
  },
  {
   "cell_type": "code",
   "execution_count": 43,
   "id": "8eec4cdc-2632-4b44-ba8f-afcb4ad58490",
   "metadata": {},
   "outputs": [],
   "source": [
    "#Compute eigenvalues and eigenvectors"
   ]
  },
  {
   "cell_type": "code",
   "execution_count": 44,
   "id": "675fe256-99ef-4568-afa1-127e18ff6834",
   "metadata": {},
   "outputs": [],
   "source": [
    "eigenvalues, eigenvectors = np.linalg.eig(covariance_Matrix)"
   ]
  },
  {
   "cell_type": "code",
   "execution_count": 45,
   "id": "ea26ef6b-c433-43e8-8308-b09281ab1df0",
   "metadata": {},
   "outputs": [
    {
     "name": "stdout",
     "output_type": "stream",
     "text": [
      "EigenValues:\n",
      " [0.57781958 1.3660572  1.80612323]\n"
     ]
    }
   ],
   "source": [
    "print('EigenValues:\\n',eigenvalues)"
   ]
  },
  {
   "cell_type": "code",
   "execution_count": 46,
   "id": "756088aa-5a91-4411-ac64-59b424b3180b",
   "metadata": {},
   "outputs": [
    {
     "name": "stdout",
     "output_type": "stream",
     "text": [
      "EigenVectors:\n",
      " [[ 0.438179    0.8531224   0.2831631 ]\n",
      " [ 0.59902804 -0.51201046  0.61563844]\n",
      " [-0.67019741  0.1001372   0.73539647]]\n"
     ]
    }
   ],
   "source": [
    "print('EigenVectors:\\n',eigenvectors)"
   ]
  },
  {
   "cell_type": "code",
   "execution_count": 47,
   "id": "2ec5c278-c2e0-4a5d-80d2-f6098b4c2f3c",
   "metadata": {},
   "outputs": [],
   "source": [
    "#sort the eigenvalues and eigenvectors"
   ]
  },
  {
   "cell_type": "code",
   "execution_count": 48,
   "id": "51394241-13e9-47a0-b9f6-f8e89a845471",
   "metadata": {},
   "outputs": [],
   "source": [
    "sorted_index = np.argsort(eigenvalues)[::-1]"
   ]
  },
  {
   "cell_type": "code",
   "execution_count": 49,
   "id": "541f0f38-2673-4399-b2a0-4c95d58454f2",
   "metadata": {},
   "outputs": [
    {
     "data": {
      "text/plain": [
       "array([2, 1, 0], dtype=int64)"
      ]
     },
     "execution_count": 49,
     "metadata": {},
     "output_type": "execute_result"
    }
   ],
   "source": [
    "sorted_index"
   ]
  },
  {
   "cell_type": "code",
   "execution_count": 50,
   "id": "4aac6cc8-cbeb-448f-af41-8c8ca47156cc",
   "metadata": {},
   "outputs": [
    {
     "data": {
      "text/plain": [
       "array([0.57781958, 1.3660572 , 1.80612323])"
      ]
     },
     "execution_count": 50,
     "metadata": {},
     "output_type": "execute_result"
    }
   ],
   "source": [
    "eigenvalues"
   ]
  },
  {
   "cell_type": "code",
   "execution_count": 51,
   "id": "cfbf0cdd-caba-4fcf-a935-99361772abdd",
   "metadata": {},
   "outputs": [
    {
     "data": {
      "text/plain": [
       "array([[ 0.2831631 ,  0.8531224 ,  0.438179  ],\n",
       "       [ 0.61563844, -0.51201046,  0.59902804],\n",
       "       [ 0.73539647,  0.1001372 , -0.67019741]])"
      ]
     },
     "execution_count": 51,
     "metadata": {},
     "output_type": "execute_result"
    }
   ],
   "source": [
    "sorted_eigenvectors = eigenvectors[:,sorted_index]\n",
    "sorted_eigenvectors"
   ]
  },
  {
   "cell_type": "code",
   "execution_count": 52,
   "id": "d7bf5105-b1c4-4b13-890f-817628b88dbb",
   "metadata": {},
   "outputs": [],
   "source": [
    "#Combine the feature vectors"
   ]
  },
  {
   "cell_type": "code",
   "execution_count": 53,
   "id": "9b11ff44-a723-415f-ae06-bb9e0cd9bc34",
   "metadata": {},
   "outputs": [],
   "source": [
    "D_pca = np.dot(D_standardized ,sorted_eigenvectors)"
   ]
  },
  {
   "cell_type": "code",
   "execution_count": 54,
   "id": "9ada39f1-52bc-423e-a369-78d9f3980587",
   "metadata": {},
   "outputs": [
    {
     "data": {
      "text/plain": [
       "array([[-1.89322346, -1.24332573, -0.06998714],\n",
       "       [-0.95274266,  1.80886828,  0.01214011],\n",
       "       [ 0.81523376,  0.37636442,  0.33218572],\n",
       "       [ 0.96088575, -0.64576896,  0.90164116],\n",
       "       [ 1.06984661, -0.29613801, -1.17597984]])"
      ]
     },
     "execution_count": 54,
     "metadata": {},
     "output_type": "execute_result"
    }
   ],
   "source": [
    "D_pca"
   ]
  },
  {
   "cell_type": "code",
   "execution_count": 55,
   "id": "965b72bd-23aa-4f48-b13a-8c305f47f5e7",
   "metadata": {},
   "outputs": [],
   "source": [
    "#pca using Python Library"
   ]
  },
  {
   "cell_type": "code",
   "execution_count": 56,
   "id": "e8503396-2d98-492a-a0ea-b57bff32eb47",
   "metadata": {},
   "outputs": [
    {
     "data": {
      "text/plain": [
       "'C:\\\\Users\\\\psagv'"
      ]
     },
     "execution_count": 56,
     "metadata": {},
     "output_type": "execute_result"
    }
   ],
   "source": [
    "import os\n",
    "os.getcwd()"
   ]
  },
  {
   "cell_type": "code",
   "execution_count": 57,
   "id": "657362ab-f54d-46e1-9a68-85c46e387d83",
   "metadata": {},
   "outputs": [],
   "source": [
    "import pandas as pd"
   ]
  },
  {
   "cell_type": "code",
   "execution_count": 58,
   "id": "471b603f-86ae-4393-ad96-853a88b99e9a",
   "metadata": {},
   "outputs": [],
   "source": [
    "df = pd.read_csv('wisc_bc_data.csv')"
   ]
  },
  {
   "cell_type": "code",
   "execution_count": 59,
   "id": "c95962ed-3ff7-4384-a11f-54f15150f47d",
   "metadata": {},
   "outputs": [
    {
     "data": {
      "text/html": [
       "<div>\n",
       "<style scoped>\n",
       "    .dataframe tbody tr th:only-of-type {\n",
       "        vertical-align: middle;\n",
       "    }\n",
       "\n",
       "    .dataframe tbody tr th {\n",
       "        vertical-align: top;\n",
       "    }\n",
       "\n",
       "    .dataframe thead th {\n",
       "        text-align: right;\n",
       "    }\n",
       "</style>\n",
       "<table border=\"1\" class=\"dataframe\">\n",
       "  <thead>\n",
       "    <tr style=\"text-align: right;\">\n",
       "      <th></th>\n",
       "      <th>id</th>\n",
       "      <th>diagnosis</th>\n",
       "      <th>radius_mean</th>\n",
       "      <th>texture_mean</th>\n",
       "      <th>perimeter_mean</th>\n",
       "      <th>area_mean</th>\n",
       "      <th>smoothness_mean</th>\n",
       "      <th>compactness_mean</th>\n",
       "      <th>concavity_mean</th>\n",
       "      <th>concave points_mean</th>\n",
       "      <th>...</th>\n",
       "      <th>radius_worst</th>\n",
       "      <th>texture_worst</th>\n",
       "      <th>perimeter_worst</th>\n",
       "      <th>area_worst</th>\n",
       "      <th>smoothness_worst</th>\n",
       "      <th>compactness_worst</th>\n",
       "      <th>concavity_worst</th>\n",
       "      <th>concave points_worst</th>\n",
       "      <th>symmetry_worst</th>\n",
       "      <th>fractal_dimension_worst</th>\n",
       "    </tr>\n",
       "  </thead>\n",
       "  <tbody>\n",
       "    <tr>\n",
       "      <th>0</th>\n",
       "      <td>842302</td>\n",
       "      <td>M</td>\n",
       "      <td>17.99</td>\n",
       "      <td>10.38</td>\n",
       "      <td>122.80</td>\n",
       "      <td>1001.0</td>\n",
       "      <td>0.11840</td>\n",
       "      <td>0.27760</td>\n",
       "      <td>0.30010</td>\n",
       "      <td>0.14710</td>\n",
       "      <td>...</td>\n",
       "      <td>25.380</td>\n",
       "      <td>17.33</td>\n",
       "      <td>184.60</td>\n",
       "      <td>2019.0</td>\n",
       "      <td>0.16220</td>\n",
       "      <td>0.66560</td>\n",
       "      <td>0.7119</td>\n",
       "      <td>0.2654</td>\n",
       "      <td>0.4601</td>\n",
       "      <td>0.11890</td>\n",
       "    </tr>\n",
       "    <tr>\n",
       "      <th>1</th>\n",
       "      <td>842517</td>\n",
       "      <td>M</td>\n",
       "      <td>20.57</td>\n",
       "      <td>17.77</td>\n",
       "      <td>132.90</td>\n",
       "      <td>1326.0</td>\n",
       "      <td>0.08474</td>\n",
       "      <td>0.07864</td>\n",
       "      <td>0.08690</td>\n",
       "      <td>0.07017</td>\n",
       "      <td>...</td>\n",
       "      <td>24.990</td>\n",
       "      <td>23.41</td>\n",
       "      <td>158.80</td>\n",
       "      <td>1956.0</td>\n",
       "      <td>0.12380</td>\n",
       "      <td>0.18660</td>\n",
       "      <td>0.2416</td>\n",
       "      <td>0.1860</td>\n",
       "      <td>0.2750</td>\n",
       "      <td>0.08902</td>\n",
       "    </tr>\n",
       "    <tr>\n",
       "      <th>2</th>\n",
       "      <td>84300903</td>\n",
       "      <td>M</td>\n",
       "      <td>19.69</td>\n",
       "      <td>21.25</td>\n",
       "      <td>130.00</td>\n",
       "      <td>1203.0</td>\n",
       "      <td>0.10960</td>\n",
       "      <td>0.15990</td>\n",
       "      <td>0.19740</td>\n",
       "      <td>0.12790</td>\n",
       "      <td>...</td>\n",
       "      <td>23.570</td>\n",
       "      <td>25.53</td>\n",
       "      <td>152.50</td>\n",
       "      <td>1709.0</td>\n",
       "      <td>0.14440</td>\n",
       "      <td>0.42450</td>\n",
       "      <td>0.4504</td>\n",
       "      <td>0.2430</td>\n",
       "      <td>0.3613</td>\n",
       "      <td>0.08758</td>\n",
       "    </tr>\n",
       "    <tr>\n",
       "      <th>3</th>\n",
       "      <td>84348301</td>\n",
       "      <td>M</td>\n",
       "      <td>11.42</td>\n",
       "      <td>20.38</td>\n",
       "      <td>77.58</td>\n",
       "      <td>386.1</td>\n",
       "      <td>0.14250</td>\n",
       "      <td>0.28390</td>\n",
       "      <td>0.24140</td>\n",
       "      <td>0.10520</td>\n",
       "      <td>...</td>\n",
       "      <td>14.910</td>\n",
       "      <td>26.50</td>\n",
       "      <td>98.87</td>\n",
       "      <td>567.7</td>\n",
       "      <td>0.20980</td>\n",
       "      <td>0.86630</td>\n",
       "      <td>0.6869</td>\n",
       "      <td>0.2575</td>\n",
       "      <td>0.6638</td>\n",
       "      <td>0.17300</td>\n",
       "    </tr>\n",
       "    <tr>\n",
       "      <th>4</th>\n",
       "      <td>84358402</td>\n",
       "      <td>M</td>\n",
       "      <td>20.29</td>\n",
       "      <td>14.34</td>\n",
       "      <td>135.10</td>\n",
       "      <td>1297.0</td>\n",
       "      <td>0.10030</td>\n",
       "      <td>0.13280</td>\n",
       "      <td>0.19800</td>\n",
       "      <td>0.10430</td>\n",
       "      <td>...</td>\n",
       "      <td>22.540</td>\n",
       "      <td>16.67</td>\n",
       "      <td>152.20</td>\n",
       "      <td>1575.0</td>\n",
       "      <td>0.13740</td>\n",
       "      <td>0.20500</td>\n",
       "      <td>0.4000</td>\n",
       "      <td>0.1625</td>\n",
       "      <td>0.2364</td>\n",
       "      <td>0.07678</td>\n",
       "    </tr>\n",
       "    <tr>\n",
       "      <th>...</th>\n",
       "      <td>...</td>\n",
       "      <td>...</td>\n",
       "      <td>...</td>\n",
       "      <td>...</td>\n",
       "      <td>...</td>\n",
       "      <td>...</td>\n",
       "      <td>...</td>\n",
       "      <td>...</td>\n",
       "      <td>...</td>\n",
       "      <td>...</td>\n",
       "      <td>...</td>\n",
       "      <td>...</td>\n",
       "      <td>...</td>\n",
       "      <td>...</td>\n",
       "      <td>...</td>\n",
       "      <td>...</td>\n",
       "      <td>...</td>\n",
       "      <td>...</td>\n",
       "      <td>...</td>\n",
       "      <td>...</td>\n",
       "      <td>...</td>\n",
       "    </tr>\n",
       "    <tr>\n",
       "      <th>564</th>\n",
       "      <td>926424</td>\n",
       "      <td>M</td>\n",
       "      <td>21.56</td>\n",
       "      <td>22.39</td>\n",
       "      <td>142.00</td>\n",
       "      <td>1479.0</td>\n",
       "      <td>0.11100</td>\n",
       "      <td>0.11590</td>\n",
       "      <td>0.24390</td>\n",
       "      <td>0.13890</td>\n",
       "      <td>...</td>\n",
       "      <td>25.450</td>\n",
       "      <td>26.40</td>\n",
       "      <td>166.10</td>\n",
       "      <td>2027.0</td>\n",
       "      <td>0.14100</td>\n",
       "      <td>0.21130</td>\n",
       "      <td>0.4107</td>\n",
       "      <td>0.2216</td>\n",
       "      <td>0.2060</td>\n",
       "      <td>0.07115</td>\n",
       "    </tr>\n",
       "    <tr>\n",
       "      <th>565</th>\n",
       "      <td>926682</td>\n",
       "      <td>M</td>\n",
       "      <td>20.13</td>\n",
       "      <td>28.25</td>\n",
       "      <td>131.20</td>\n",
       "      <td>1261.0</td>\n",
       "      <td>0.09780</td>\n",
       "      <td>0.10340</td>\n",
       "      <td>0.14400</td>\n",
       "      <td>0.09791</td>\n",
       "      <td>...</td>\n",
       "      <td>23.690</td>\n",
       "      <td>38.25</td>\n",
       "      <td>155.00</td>\n",
       "      <td>1731.0</td>\n",
       "      <td>0.11660</td>\n",
       "      <td>0.19220</td>\n",
       "      <td>0.3215</td>\n",
       "      <td>0.1628</td>\n",
       "      <td>0.2572</td>\n",
       "      <td>0.06637</td>\n",
       "    </tr>\n",
       "    <tr>\n",
       "      <th>566</th>\n",
       "      <td>926954</td>\n",
       "      <td>M</td>\n",
       "      <td>16.60</td>\n",
       "      <td>28.08</td>\n",
       "      <td>108.30</td>\n",
       "      <td>858.1</td>\n",
       "      <td>0.08455</td>\n",
       "      <td>0.10230</td>\n",
       "      <td>0.09251</td>\n",
       "      <td>0.05302</td>\n",
       "      <td>...</td>\n",
       "      <td>18.980</td>\n",
       "      <td>34.12</td>\n",
       "      <td>126.70</td>\n",
       "      <td>1124.0</td>\n",
       "      <td>0.11390</td>\n",
       "      <td>0.30940</td>\n",
       "      <td>0.3403</td>\n",
       "      <td>0.1418</td>\n",
       "      <td>0.2218</td>\n",
       "      <td>0.07820</td>\n",
       "    </tr>\n",
       "    <tr>\n",
       "      <th>567</th>\n",
       "      <td>927241</td>\n",
       "      <td>M</td>\n",
       "      <td>20.60</td>\n",
       "      <td>29.33</td>\n",
       "      <td>140.10</td>\n",
       "      <td>1265.0</td>\n",
       "      <td>0.11780</td>\n",
       "      <td>0.27700</td>\n",
       "      <td>0.35140</td>\n",
       "      <td>0.15200</td>\n",
       "      <td>...</td>\n",
       "      <td>25.740</td>\n",
       "      <td>39.42</td>\n",
       "      <td>184.60</td>\n",
       "      <td>1821.0</td>\n",
       "      <td>0.16500</td>\n",
       "      <td>0.86810</td>\n",
       "      <td>0.9387</td>\n",
       "      <td>0.2650</td>\n",
       "      <td>0.4087</td>\n",
       "      <td>0.12400</td>\n",
       "    </tr>\n",
       "    <tr>\n",
       "      <th>568</th>\n",
       "      <td>92751</td>\n",
       "      <td>B</td>\n",
       "      <td>7.76</td>\n",
       "      <td>24.54</td>\n",
       "      <td>47.92</td>\n",
       "      <td>181.0</td>\n",
       "      <td>0.05263</td>\n",
       "      <td>0.04362</td>\n",
       "      <td>0.00000</td>\n",
       "      <td>0.00000</td>\n",
       "      <td>...</td>\n",
       "      <td>9.456</td>\n",
       "      <td>30.37</td>\n",
       "      <td>59.16</td>\n",
       "      <td>268.6</td>\n",
       "      <td>0.08996</td>\n",
       "      <td>0.06444</td>\n",
       "      <td>0.0000</td>\n",
       "      <td>0.0000</td>\n",
       "      <td>0.2871</td>\n",
       "      <td>0.07039</td>\n",
       "    </tr>\n",
       "  </tbody>\n",
       "</table>\n",
       "<p>569 rows × 32 columns</p>\n",
       "</div>"
      ],
      "text/plain": [
       "           id diagnosis  radius_mean  texture_mean  perimeter_mean  area_mean  \\\n",
       "0      842302         M        17.99         10.38          122.80     1001.0   \n",
       "1      842517         M        20.57         17.77          132.90     1326.0   \n",
       "2    84300903         M        19.69         21.25          130.00     1203.0   \n",
       "3    84348301         M        11.42         20.38           77.58      386.1   \n",
       "4    84358402         M        20.29         14.34          135.10     1297.0   \n",
       "..        ...       ...          ...           ...             ...        ...   \n",
       "564    926424         M        21.56         22.39          142.00     1479.0   \n",
       "565    926682         M        20.13         28.25          131.20     1261.0   \n",
       "566    926954         M        16.60         28.08          108.30      858.1   \n",
       "567    927241         M        20.60         29.33          140.10     1265.0   \n",
       "568     92751         B         7.76         24.54           47.92      181.0   \n",
       "\n",
       "     smoothness_mean  compactness_mean  concavity_mean  concave points_mean  \\\n",
       "0            0.11840           0.27760         0.30010              0.14710   \n",
       "1            0.08474           0.07864         0.08690              0.07017   \n",
       "2            0.10960           0.15990         0.19740              0.12790   \n",
       "3            0.14250           0.28390         0.24140              0.10520   \n",
       "4            0.10030           0.13280         0.19800              0.10430   \n",
       "..               ...               ...             ...                  ...   \n",
       "564          0.11100           0.11590         0.24390              0.13890   \n",
       "565          0.09780           0.10340         0.14400              0.09791   \n",
       "566          0.08455           0.10230         0.09251              0.05302   \n",
       "567          0.11780           0.27700         0.35140              0.15200   \n",
       "568          0.05263           0.04362         0.00000              0.00000   \n",
       "\n",
       "     ...  radius_worst  texture_worst  perimeter_worst  area_worst  \\\n",
       "0    ...        25.380          17.33           184.60      2019.0   \n",
       "1    ...        24.990          23.41           158.80      1956.0   \n",
       "2    ...        23.570          25.53           152.50      1709.0   \n",
       "3    ...        14.910          26.50            98.87       567.7   \n",
       "4    ...        22.540          16.67           152.20      1575.0   \n",
       "..   ...           ...            ...              ...         ...   \n",
       "564  ...        25.450          26.40           166.10      2027.0   \n",
       "565  ...        23.690          38.25           155.00      1731.0   \n",
       "566  ...        18.980          34.12           126.70      1124.0   \n",
       "567  ...        25.740          39.42           184.60      1821.0   \n",
       "568  ...         9.456          30.37            59.16       268.6   \n",
       "\n",
       "     smoothness_worst  compactness_worst  concavity_worst  \\\n",
       "0             0.16220            0.66560           0.7119   \n",
       "1             0.12380            0.18660           0.2416   \n",
       "2             0.14440            0.42450           0.4504   \n",
       "3             0.20980            0.86630           0.6869   \n",
       "4             0.13740            0.20500           0.4000   \n",
       "..                ...                ...              ...   \n",
       "564           0.14100            0.21130           0.4107   \n",
       "565           0.11660            0.19220           0.3215   \n",
       "566           0.11390            0.30940           0.3403   \n",
       "567           0.16500            0.86810           0.9387   \n",
       "568           0.08996            0.06444           0.0000   \n",
       "\n",
       "     concave points_worst  symmetry_worst  fractal_dimension_worst  \n",
       "0                  0.2654          0.4601                  0.11890  \n",
       "1                  0.1860          0.2750                  0.08902  \n",
       "2                  0.2430          0.3613                  0.08758  \n",
       "3                  0.2575          0.6638                  0.17300  \n",
       "4                  0.1625          0.2364                  0.07678  \n",
       "..                    ...             ...                      ...  \n",
       "564                0.2216          0.2060                  0.07115  \n",
       "565                0.1628          0.2572                  0.06637  \n",
       "566                0.1418          0.2218                  0.07820  \n",
       "567                0.2650          0.4087                  0.12400  \n",
       "568                0.0000          0.2871                  0.07039  \n",
       "\n",
       "[569 rows x 32 columns]"
      ]
     },
     "execution_count": 59,
     "metadata": {},
     "output_type": "execute_result"
    }
   ],
   "source": [
    "df"
   ]
  },
  {
   "cell_type": "code",
   "execution_count": 60,
   "id": "cd780a97-6532-431a-b966-8fe35f44118d",
   "metadata": {},
   "outputs": [
    {
     "data": {
      "text/plain": [
       "(569, 32)"
      ]
     },
     "execution_count": 60,
     "metadata": {},
     "output_type": "execute_result"
    }
   ],
   "source": [
    "df.shape"
   ]
  },
  {
   "cell_type": "code",
   "execution_count": 61,
   "id": "5f28215c-25bf-42fa-ae60-0bb3653469a4",
   "metadata": {},
   "outputs": [],
   "source": [
    "x = df.iloc[:,2:]"
   ]
  },
  {
   "cell_type": "code",
   "execution_count": 62,
   "id": "1c088874-2b7e-42da-ab50-6f13ba0b738a",
   "metadata": {},
   "outputs": [
    {
     "data": {
      "text/html": [
       "<div>\n",
       "<style scoped>\n",
       "    .dataframe tbody tr th:only-of-type {\n",
       "        vertical-align: middle;\n",
       "    }\n",
       "\n",
       "    .dataframe tbody tr th {\n",
       "        vertical-align: top;\n",
       "    }\n",
       "\n",
       "    .dataframe thead th {\n",
       "        text-align: right;\n",
       "    }\n",
       "</style>\n",
       "<table border=\"1\" class=\"dataframe\">\n",
       "  <thead>\n",
       "    <tr style=\"text-align: right;\">\n",
       "      <th></th>\n",
       "      <th>radius_mean</th>\n",
       "      <th>texture_mean</th>\n",
       "      <th>perimeter_mean</th>\n",
       "      <th>area_mean</th>\n",
       "      <th>smoothness_mean</th>\n",
       "      <th>compactness_mean</th>\n",
       "      <th>concavity_mean</th>\n",
       "      <th>concave points_mean</th>\n",
       "      <th>symmetry_mean</th>\n",
       "      <th>fractal_dimension_mean</th>\n",
       "      <th>...</th>\n",
       "      <th>radius_worst</th>\n",
       "      <th>texture_worst</th>\n",
       "      <th>perimeter_worst</th>\n",
       "      <th>area_worst</th>\n",
       "      <th>smoothness_worst</th>\n",
       "      <th>compactness_worst</th>\n",
       "      <th>concavity_worst</th>\n",
       "      <th>concave points_worst</th>\n",
       "      <th>symmetry_worst</th>\n",
       "      <th>fractal_dimension_worst</th>\n",
       "    </tr>\n",
       "  </thead>\n",
       "  <tbody>\n",
       "    <tr>\n",
       "      <th>0</th>\n",
       "      <td>17.99</td>\n",
       "      <td>10.38</td>\n",
       "      <td>122.80</td>\n",
       "      <td>1001.0</td>\n",
       "      <td>0.11840</td>\n",
       "      <td>0.27760</td>\n",
       "      <td>0.30010</td>\n",
       "      <td>0.14710</td>\n",
       "      <td>0.2419</td>\n",
       "      <td>0.07871</td>\n",
       "      <td>...</td>\n",
       "      <td>25.380</td>\n",
       "      <td>17.33</td>\n",
       "      <td>184.60</td>\n",
       "      <td>2019.0</td>\n",
       "      <td>0.16220</td>\n",
       "      <td>0.66560</td>\n",
       "      <td>0.7119</td>\n",
       "      <td>0.2654</td>\n",
       "      <td>0.4601</td>\n",
       "      <td>0.11890</td>\n",
       "    </tr>\n",
       "    <tr>\n",
       "      <th>1</th>\n",
       "      <td>20.57</td>\n",
       "      <td>17.77</td>\n",
       "      <td>132.90</td>\n",
       "      <td>1326.0</td>\n",
       "      <td>0.08474</td>\n",
       "      <td>0.07864</td>\n",
       "      <td>0.08690</td>\n",
       "      <td>0.07017</td>\n",
       "      <td>0.1812</td>\n",
       "      <td>0.05667</td>\n",
       "      <td>...</td>\n",
       "      <td>24.990</td>\n",
       "      <td>23.41</td>\n",
       "      <td>158.80</td>\n",
       "      <td>1956.0</td>\n",
       "      <td>0.12380</td>\n",
       "      <td>0.18660</td>\n",
       "      <td>0.2416</td>\n",
       "      <td>0.1860</td>\n",
       "      <td>0.2750</td>\n",
       "      <td>0.08902</td>\n",
       "    </tr>\n",
       "    <tr>\n",
       "      <th>2</th>\n",
       "      <td>19.69</td>\n",
       "      <td>21.25</td>\n",
       "      <td>130.00</td>\n",
       "      <td>1203.0</td>\n",
       "      <td>0.10960</td>\n",
       "      <td>0.15990</td>\n",
       "      <td>0.19740</td>\n",
       "      <td>0.12790</td>\n",
       "      <td>0.2069</td>\n",
       "      <td>0.05999</td>\n",
       "      <td>...</td>\n",
       "      <td>23.570</td>\n",
       "      <td>25.53</td>\n",
       "      <td>152.50</td>\n",
       "      <td>1709.0</td>\n",
       "      <td>0.14440</td>\n",
       "      <td>0.42450</td>\n",
       "      <td>0.4504</td>\n",
       "      <td>0.2430</td>\n",
       "      <td>0.3613</td>\n",
       "      <td>0.08758</td>\n",
       "    </tr>\n",
       "    <tr>\n",
       "      <th>3</th>\n",
       "      <td>11.42</td>\n",
       "      <td>20.38</td>\n",
       "      <td>77.58</td>\n",
       "      <td>386.1</td>\n",
       "      <td>0.14250</td>\n",
       "      <td>0.28390</td>\n",
       "      <td>0.24140</td>\n",
       "      <td>0.10520</td>\n",
       "      <td>0.2597</td>\n",
       "      <td>0.09744</td>\n",
       "      <td>...</td>\n",
       "      <td>14.910</td>\n",
       "      <td>26.50</td>\n",
       "      <td>98.87</td>\n",
       "      <td>567.7</td>\n",
       "      <td>0.20980</td>\n",
       "      <td>0.86630</td>\n",
       "      <td>0.6869</td>\n",
       "      <td>0.2575</td>\n",
       "      <td>0.6638</td>\n",
       "      <td>0.17300</td>\n",
       "    </tr>\n",
       "    <tr>\n",
       "      <th>4</th>\n",
       "      <td>20.29</td>\n",
       "      <td>14.34</td>\n",
       "      <td>135.10</td>\n",
       "      <td>1297.0</td>\n",
       "      <td>0.10030</td>\n",
       "      <td>0.13280</td>\n",
       "      <td>0.19800</td>\n",
       "      <td>0.10430</td>\n",
       "      <td>0.1809</td>\n",
       "      <td>0.05883</td>\n",
       "      <td>...</td>\n",
       "      <td>22.540</td>\n",
       "      <td>16.67</td>\n",
       "      <td>152.20</td>\n",
       "      <td>1575.0</td>\n",
       "      <td>0.13740</td>\n",
       "      <td>0.20500</td>\n",
       "      <td>0.4000</td>\n",
       "      <td>0.1625</td>\n",
       "      <td>0.2364</td>\n",
       "      <td>0.07678</td>\n",
       "    </tr>\n",
       "    <tr>\n",
       "      <th>...</th>\n",
       "      <td>...</td>\n",
       "      <td>...</td>\n",
       "      <td>...</td>\n",
       "      <td>...</td>\n",
       "      <td>...</td>\n",
       "      <td>...</td>\n",
       "      <td>...</td>\n",
       "      <td>...</td>\n",
       "      <td>...</td>\n",
       "      <td>...</td>\n",
       "      <td>...</td>\n",
       "      <td>...</td>\n",
       "      <td>...</td>\n",
       "      <td>...</td>\n",
       "      <td>...</td>\n",
       "      <td>...</td>\n",
       "      <td>...</td>\n",
       "      <td>...</td>\n",
       "      <td>...</td>\n",
       "      <td>...</td>\n",
       "      <td>...</td>\n",
       "    </tr>\n",
       "    <tr>\n",
       "      <th>564</th>\n",
       "      <td>21.56</td>\n",
       "      <td>22.39</td>\n",
       "      <td>142.00</td>\n",
       "      <td>1479.0</td>\n",
       "      <td>0.11100</td>\n",
       "      <td>0.11590</td>\n",
       "      <td>0.24390</td>\n",
       "      <td>0.13890</td>\n",
       "      <td>0.1726</td>\n",
       "      <td>0.05623</td>\n",
       "      <td>...</td>\n",
       "      <td>25.450</td>\n",
       "      <td>26.40</td>\n",
       "      <td>166.10</td>\n",
       "      <td>2027.0</td>\n",
       "      <td>0.14100</td>\n",
       "      <td>0.21130</td>\n",
       "      <td>0.4107</td>\n",
       "      <td>0.2216</td>\n",
       "      <td>0.2060</td>\n",
       "      <td>0.07115</td>\n",
       "    </tr>\n",
       "    <tr>\n",
       "      <th>565</th>\n",
       "      <td>20.13</td>\n",
       "      <td>28.25</td>\n",
       "      <td>131.20</td>\n",
       "      <td>1261.0</td>\n",
       "      <td>0.09780</td>\n",
       "      <td>0.10340</td>\n",
       "      <td>0.14400</td>\n",
       "      <td>0.09791</td>\n",
       "      <td>0.1752</td>\n",
       "      <td>0.05533</td>\n",
       "      <td>...</td>\n",
       "      <td>23.690</td>\n",
       "      <td>38.25</td>\n",
       "      <td>155.00</td>\n",
       "      <td>1731.0</td>\n",
       "      <td>0.11660</td>\n",
       "      <td>0.19220</td>\n",
       "      <td>0.3215</td>\n",
       "      <td>0.1628</td>\n",
       "      <td>0.2572</td>\n",
       "      <td>0.06637</td>\n",
       "    </tr>\n",
       "    <tr>\n",
       "      <th>566</th>\n",
       "      <td>16.60</td>\n",
       "      <td>28.08</td>\n",
       "      <td>108.30</td>\n",
       "      <td>858.1</td>\n",
       "      <td>0.08455</td>\n",
       "      <td>0.10230</td>\n",
       "      <td>0.09251</td>\n",
       "      <td>0.05302</td>\n",
       "      <td>0.1590</td>\n",
       "      <td>0.05648</td>\n",
       "      <td>...</td>\n",
       "      <td>18.980</td>\n",
       "      <td>34.12</td>\n",
       "      <td>126.70</td>\n",
       "      <td>1124.0</td>\n",
       "      <td>0.11390</td>\n",
       "      <td>0.30940</td>\n",
       "      <td>0.3403</td>\n",
       "      <td>0.1418</td>\n",
       "      <td>0.2218</td>\n",
       "      <td>0.07820</td>\n",
       "    </tr>\n",
       "    <tr>\n",
       "      <th>567</th>\n",
       "      <td>20.60</td>\n",
       "      <td>29.33</td>\n",
       "      <td>140.10</td>\n",
       "      <td>1265.0</td>\n",
       "      <td>0.11780</td>\n",
       "      <td>0.27700</td>\n",
       "      <td>0.35140</td>\n",
       "      <td>0.15200</td>\n",
       "      <td>0.2397</td>\n",
       "      <td>0.07016</td>\n",
       "      <td>...</td>\n",
       "      <td>25.740</td>\n",
       "      <td>39.42</td>\n",
       "      <td>184.60</td>\n",
       "      <td>1821.0</td>\n",
       "      <td>0.16500</td>\n",
       "      <td>0.86810</td>\n",
       "      <td>0.9387</td>\n",
       "      <td>0.2650</td>\n",
       "      <td>0.4087</td>\n",
       "      <td>0.12400</td>\n",
       "    </tr>\n",
       "    <tr>\n",
       "      <th>568</th>\n",
       "      <td>7.76</td>\n",
       "      <td>24.54</td>\n",
       "      <td>47.92</td>\n",
       "      <td>181.0</td>\n",
       "      <td>0.05263</td>\n",
       "      <td>0.04362</td>\n",
       "      <td>0.00000</td>\n",
       "      <td>0.00000</td>\n",
       "      <td>0.1587</td>\n",
       "      <td>0.05884</td>\n",
       "      <td>...</td>\n",
       "      <td>9.456</td>\n",
       "      <td>30.37</td>\n",
       "      <td>59.16</td>\n",
       "      <td>268.6</td>\n",
       "      <td>0.08996</td>\n",
       "      <td>0.06444</td>\n",
       "      <td>0.0000</td>\n",
       "      <td>0.0000</td>\n",
       "      <td>0.2871</td>\n",
       "      <td>0.07039</td>\n",
       "    </tr>\n",
       "  </tbody>\n",
       "</table>\n",
       "<p>569 rows × 30 columns</p>\n",
       "</div>"
      ],
      "text/plain": [
       "     radius_mean  texture_mean  perimeter_mean  area_mean  smoothness_mean  \\\n",
       "0          17.99         10.38          122.80     1001.0          0.11840   \n",
       "1          20.57         17.77          132.90     1326.0          0.08474   \n",
       "2          19.69         21.25          130.00     1203.0          0.10960   \n",
       "3          11.42         20.38           77.58      386.1          0.14250   \n",
       "4          20.29         14.34          135.10     1297.0          0.10030   \n",
       "..           ...           ...             ...        ...              ...   \n",
       "564        21.56         22.39          142.00     1479.0          0.11100   \n",
       "565        20.13         28.25          131.20     1261.0          0.09780   \n",
       "566        16.60         28.08          108.30      858.1          0.08455   \n",
       "567        20.60         29.33          140.10     1265.0          0.11780   \n",
       "568         7.76         24.54           47.92      181.0          0.05263   \n",
       "\n",
       "     compactness_mean  concavity_mean  concave points_mean  symmetry_mean  \\\n",
       "0             0.27760         0.30010              0.14710         0.2419   \n",
       "1             0.07864         0.08690              0.07017         0.1812   \n",
       "2             0.15990         0.19740              0.12790         0.2069   \n",
       "3             0.28390         0.24140              0.10520         0.2597   \n",
       "4             0.13280         0.19800              0.10430         0.1809   \n",
       "..                ...             ...                  ...            ...   \n",
       "564           0.11590         0.24390              0.13890         0.1726   \n",
       "565           0.10340         0.14400              0.09791         0.1752   \n",
       "566           0.10230         0.09251              0.05302         0.1590   \n",
       "567           0.27700         0.35140              0.15200         0.2397   \n",
       "568           0.04362         0.00000              0.00000         0.1587   \n",
       "\n",
       "     fractal_dimension_mean  ...  radius_worst  texture_worst  \\\n",
       "0                   0.07871  ...        25.380          17.33   \n",
       "1                   0.05667  ...        24.990          23.41   \n",
       "2                   0.05999  ...        23.570          25.53   \n",
       "3                   0.09744  ...        14.910          26.50   \n",
       "4                   0.05883  ...        22.540          16.67   \n",
       "..                      ...  ...           ...            ...   \n",
       "564                 0.05623  ...        25.450          26.40   \n",
       "565                 0.05533  ...        23.690          38.25   \n",
       "566                 0.05648  ...        18.980          34.12   \n",
       "567                 0.07016  ...        25.740          39.42   \n",
       "568                 0.05884  ...         9.456          30.37   \n",
       "\n",
       "     perimeter_worst  area_worst  smoothness_worst  compactness_worst  \\\n",
       "0             184.60      2019.0           0.16220            0.66560   \n",
       "1             158.80      1956.0           0.12380            0.18660   \n",
       "2             152.50      1709.0           0.14440            0.42450   \n",
       "3              98.87       567.7           0.20980            0.86630   \n",
       "4             152.20      1575.0           0.13740            0.20500   \n",
       "..               ...         ...               ...                ...   \n",
       "564           166.10      2027.0           0.14100            0.21130   \n",
       "565           155.00      1731.0           0.11660            0.19220   \n",
       "566           126.70      1124.0           0.11390            0.30940   \n",
       "567           184.60      1821.0           0.16500            0.86810   \n",
       "568            59.16       268.6           0.08996            0.06444   \n",
       "\n",
       "     concavity_worst  concave points_worst  symmetry_worst  \\\n",
       "0             0.7119                0.2654          0.4601   \n",
       "1             0.2416                0.1860          0.2750   \n",
       "2             0.4504                0.2430          0.3613   \n",
       "3             0.6869                0.2575          0.6638   \n",
       "4             0.4000                0.1625          0.2364   \n",
       "..               ...                   ...             ...   \n",
       "564           0.4107                0.2216          0.2060   \n",
       "565           0.3215                0.1628          0.2572   \n",
       "566           0.3403                0.1418          0.2218   \n",
       "567           0.9387                0.2650          0.4087   \n",
       "568           0.0000                0.0000          0.2871   \n",
       "\n",
       "     fractal_dimension_worst  \n",
       "0                    0.11890  \n",
       "1                    0.08902  \n",
       "2                    0.08758  \n",
       "3                    0.17300  \n",
       "4                    0.07678  \n",
       "..                       ...  \n",
       "564                  0.07115  \n",
       "565                  0.06637  \n",
       "566                  0.07820  \n",
       "567                  0.12400  \n",
       "568                  0.07039  \n",
       "\n",
       "[569 rows x 30 columns]"
      ]
     },
     "execution_count": 62,
     "metadata": {},
     "output_type": "execute_result"
    }
   ],
   "source": [
    "x"
   ]
  },
  {
   "cell_type": "code",
   "execution_count": 63,
   "id": "51ef86da-a7ba-4fad-8319-eb004ec02f6f",
   "metadata": {},
   "outputs": [
    {
     "data": {
      "text/plain": [
       "(569, 30)"
      ]
     },
     "execution_count": 63,
     "metadata": {},
     "output_type": "execute_result"
    }
   ],
   "source": [
    "x.shape"
   ]
  },
  {
   "cell_type": "code",
   "execution_count": 64,
   "id": "5820ffbb-f540-4e2c-8d5e-c6baa7c3fa36",
   "metadata": {},
   "outputs": [],
   "source": [
    "#Standardize the data"
   ]
  },
  {
   "cell_type": "code",
   "execution_count": 65,
   "id": "01d35ead-07b1-4f91-b713-ab215deb9080",
   "metadata": {},
   "outputs": [],
   "source": [
    "#import the class\n",
    "from sklearn.preprocessing import StandardScaler"
   ]
  },
  {
   "cell_type": "code",
   "execution_count": 66,
   "id": "7162e5c2-3cac-4228-8699-7a737104ad78",
   "metadata": {},
   "outputs": [],
   "source": [
    "#create the object of class\n",
    "scaler = StandardScaler()"
   ]
  },
  {
   "cell_type": "code",
   "execution_count": 67,
   "id": "9d0926a3-67b0-4bca-ad77-58ee791781b4",
   "metadata": {},
   "outputs": [],
   "source": [
    "#apply the class\n",
    "x_std = scaler.fit_transform(x)"
   ]
  },
  {
   "cell_type": "code",
   "execution_count": 68,
   "id": "68fc1411-b0bf-4b4e-9e1a-b8b19d420a8e",
   "metadata": {},
   "outputs": [
    {
     "data": {
      "text/plain": [
       "array([[ 1.09706398, -2.07333501,  1.26993369, ...,  2.29607613,\n",
       "         2.75062224,  1.93701461],\n",
       "       [ 1.82982061, -0.35363241,  1.68595471, ...,  1.0870843 ,\n",
       "        -0.24388967,  0.28118999],\n",
       "       [ 1.57988811,  0.45618695,  1.56650313, ...,  1.95500035,\n",
       "         1.152255  ,  0.20139121],\n",
       "       ...,\n",
       "       [ 0.70228425,  2.0455738 ,  0.67267578, ...,  0.41406869,\n",
       "        -1.10454895, -0.31840916],\n",
       "       [ 1.83834103,  2.33645719,  1.98252415, ...,  2.28998549,\n",
       "         1.91908301,  2.21963528],\n",
       "       [-1.80840125,  1.22179204, -1.81438851, ..., -1.74506282,\n",
       "        -0.04813821, -0.75120669]])"
      ]
     },
     "execution_count": 68,
     "metadata": {},
     "output_type": "execute_result"
    }
   ],
   "source": [
    "x_std"
   ]
  },
  {
   "cell_type": "code",
   "execution_count": 69,
   "id": "081e73c0-4819-4651-8baa-d4b51bf4c3fd",
   "metadata": {},
   "outputs": [
    {
     "data": {
      "text/plain": [
       "(569, 30)"
      ]
     },
     "execution_count": 69,
     "metadata": {},
     "output_type": "execute_result"
    }
   ],
   "source": [
    "x_std.shape"
   ]
  },
  {
   "cell_type": "code",
   "execution_count": 70,
   "id": "60ee0d34-0338-4461-a4e8-3cd228b08c0f",
   "metadata": {},
   "outputs": [],
   "source": [
    "#Use and apply the PCA"
   ]
  },
  {
   "cell_type": "code",
   "execution_count": 71,
   "id": "4af2dd69-375f-497f-b53a-a20849edfe29",
   "metadata": {},
   "outputs": [],
   "source": [
    "from sklearn.decomposition import PCA"
   ]
  },
  {
   "cell_type": "code",
   "execution_count": 72,
   "id": "3c1361cf-207e-4d14-9f46-e79e145e2db8",
   "metadata": {},
   "outputs": [],
   "source": [
    "#apply the PCA\n",
    "pca = PCA()"
   ]
  },
  {
   "cell_type": "code",
   "execution_count": 73,
   "id": "f829eeab-e2f8-4f54-8973-f61d3e1fb296",
   "metadata": {},
   "outputs": [],
   "source": [
    "x_pca = pca.fit_transform(x_std)"
   ]
  },
  {
   "cell_type": "code",
   "execution_count": 74,
   "id": "44fdf19e-1922-4475-a44b-86380a691d3f",
   "metadata": {},
   "outputs": [
    {
     "data": {
      "text/plain": [
       "array([[ 9.19283683e+00,  1.94858307e+00, -1.12316616e+00, ...,\n",
       "        -3.39144536e-02,  4.56477199e-02, -4.71692081e-02],\n",
       "       [ 2.38780180e+00, -3.76817174e+00, -5.29292687e-01, ...,\n",
       "         3.26241827e-02, -5.68742432e-03, -1.86787626e-03],\n",
       "       [ 5.73389628e+00, -1.07517380e+00, -5.51747593e-01, ...,\n",
       "         4.70258247e-02,  3.14589659e-03,  7.50534755e-04],\n",
       "       ...,\n",
       "       [ 1.25617928e+00, -1.90229671e+00,  5.62730526e-01, ...,\n",
       "        -2.57775589e-03,  6.70621179e-03,  3.77041667e-03],\n",
       "       [ 1.03747941e+01,  1.67201011e+00, -1.87702933e+00, ...,\n",
       "        -6.80863833e-02, -8.41632764e-02, -2.37828222e-02],\n",
       "       [-5.47524330e+00, -6.70636791e-01,  1.49044308e+00, ...,\n",
       "        -9.51587894e-03, -6.09131090e-02, -1.94755854e-02]])"
      ]
     },
     "execution_count": 74,
     "metadata": {},
     "output_type": "execute_result"
    }
   ],
   "source": [
    "x_pca"
   ]
  },
  {
   "cell_type": "code",
   "execution_count": 75,
   "id": "ca3efb8d-e8f2-4333-a08b-cb17c93fb54e",
   "metadata": {},
   "outputs": [
    {
     "data": {
      "text/plain": [
       "(569, 30)"
      ]
     },
     "execution_count": 75,
     "metadata": {},
     "output_type": "execute_result"
    }
   ],
   "source": [
    "x_pca.shape"
   ]
  },
  {
   "cell_type": "code",
   "execution_count": 76,
   "id": "8b7fe483-2ffa-453b-b4ea-d8c9eb42ec94",
   "metadata": {},
   "outputs": [],
   "source": [
    "var = pca.explained_variance_ratio_"
   ]
  },
  {
   "cell_type": "code",
   "execution_count": 77,
   "id": "29beb6e8-cfdc-4e6b-9be2-de533a81f403",
   "metadata": {},
   "outputs": [
    {
     "data": {
      "text/plain": [
       "array([4.42720256e-01, 1.89711820e-01, 9.39316326e-02, 6.60213492e-02,\n",
       "       5.49576849e-02, 4.02452204e-02, 2.25073371e-02, 1.58872380e-02,\n",
       "       1.38964937e-02, 1.16897819e-02, 9.79718988e-03, 8.70537901e-03,\n",
       "       8.04524987e-03, 5.23365745e-03, 3.13783217e-03, 2.66209337e-03,\n",
       "       1.97996793e-03, 1.75395945e-03, 1.64925306e-03, 1.03864675e-03,\n",
       "       9.99096464e-04, 9.14646751e-04, 8.11361259e-04, 6.01833567e-04,\n",
       "       5.16042379e-04, 2.72587995e-04, 2.30015463e-04, 5.29779290e-05,\n",
       "       2.49601032e-05, 4.43482743e-06])"
      ]
     },
     "execution_count": 77,
     "metadata": {},
     "output_type": "execute_result"
    }
   ],
   "source": [
    "var"
   ]
  },
  {
   "cell_type": "code",
   "execution_count": 78,
   "id": "32a5c300-7a68-4276-8986-7d7bdf7222de",
   "metadata": {},
   "outputs": [
    {
     "data": {
      "text/plain": [
       "1.0"
      ]
     },
     "execution_count": 78,
     "metadata": {},
     "output_type": "execute_result"
    }
   ],
   "source": [
    "np.sum(var)"
   ]
  },
  {
   "cell_type": "code",
   "execution_count": 79,
   "id": "c03493b8-a045-4d25-81f2-5d1b1c5d17e1",
   "metadata": {},
   "outputs": [],
   "source": [
    "import matplotlib.pyplot as plt"
   ]
  },
  {
   "cell_type": "code",
   "execution_count": 80,
   "id": "9c2361e1-5790-4a1c-92c5-fa701065bb5a",
   "metadata": {},
   "outputs": [
    {
     "data": {
      "text/plain": [
       "<BarContainer object of 30 artists>"
      ]
     },
     "execution_count": 80,
     "metadata": {},
     "output_type": "execute_result"
    },
    {
     "data": {
      "image/png": "[encoded data removed]",
      "text/plain": [
       "<Figure size 640x480 with 1 Axes>"
      ]
     },
     "metadata": {},
     "output_type": "display_data"
    }
   ],
   "source": [
    "plt.title('PCA variance')\n",
    "plt.xlabel('Principal Componant')\n",
    "plt.ylabel('Variance')\n",
    "plt.grid()\n",
    "plt.bar(range(1,31),var,)"
   ]
  },
  {
   "cell_type": "code",
   "execution_count": 81,
   "id": "e8e44c34-9e76-4107-aa24-4dc2430dee52",
   "metadata": {},
   "outputs": [
    {
     "data": {
      "text/plain": [
       "array([[ 9.19283683e+00,  1.94858307e+00, -1.12316616e+00, ...,\n",
       "        -3.39144536e-02,  4.56477199e-02, -4.71692081e-02],\n",
       "       [ 2.38780180e+00, -3.76817174e+00, -5.29292687e-01, ...,\n",
       "         3.26241827e-02, -5.68742432e-03, -1.86787626e-03],\n",
       "       [ 5.73389628e+00, -1.07517380e+00, -5.51747593e-01, ...,\n",
       "         4.70258247e-02,  3.14589659e-03,  7.50534755e-04],\n",
       "       ...,\n",
       "       [ 1.25617928e+00, -1.90229671e+00,  5.62730526e-01, ...,\n",
       "        -2.57775589e-03,  6.70621179e-03,  3.77041667e-03],\n",
       "       [ 1.03747941e+01,  1.67201011e+00, -1.87702933e+00, ...,\n",
       "        -6.80863833e-02, -8.41632764e-02, -2.37828222e-02],\n",
       "       [-5.47524330e+00, -6.70636791e-01,  1.49044308e+00, ...,\n",
       "        -9.51587894e-03, -6.09131090e-02, -1.94755854e-02]])"
      ]
     },
     "execution_count": 81,
     "metadata": {},
     "output_type": "execute_result"
    }
   ],
   "source": [
    "x_pca"
   ]
  },
  {
   "cell_type": "code",
   "execution_count": 82,
   "id": "5b24e9c4-d15b-41af-a206-001fdb4cef86",
   "metadata": {},
   "outputs": [],
   "source": [
    "pca=PCA(n_components=5)"
   ]
  },
  {
   "cell_type": "code",
   "execution_count": 83,
   "id": "c9f77bb2-7d29-4a4c-bd50-e3256d3b0a25",
   "metadata": {},
   "outputs": [],
   "source": [
    "x_pca=pca.fit_transform(x)"
   ]
  },
  {
   "cell_type": "code",
   "execution_count": 84,
   "id": "380cb44c-ae40-411a-8292-ad83730913d0",
   "metadata": {},
   "outputs": [
    {
     "data": {
      "text/plain": [
       "(569, 5)"
      ]
     },
     "execution_count": 84,
     "metadata": {},
     "output_type": "execute_result"
    }
   ],
   "source": [
    "x_pca.shape"
   ]
  },
  {
   "cell_type": "code",
   "execution_count": 85,
   "id": "fa1b965c-95e0-4014-bc54-db2b6bb8382e",
   "metadata": {},
   "outputs": [],
   "source": [
    "var=pca.explained_variance_ratio_"
   ]
  },
  {
   "cell_type": "code",
   "execution_count": 86,
   "id": "9e650b28-02a7-47ce-84a4-1d33b2e8e494",
   "metadata": {},
   "outputs": [
    {
     "data": {
      "text/plain": [
       "array([9.82044672e-01, 1.61764899e-02, 1.55751075e-03, 1.20931964e-04,\n",
       "       8.82724536e-05])"
      ]
     },
     "execution_count": 86,
     "metadata": {},
     "output_type": "execute_result"
    }
   ],
   "source": [
    "var"
   ]
  },
  {
   "cell_type": "code",
   "execution_count": 87,
   "id": "2b2ae889-efcc-4fd5-b567-b3897774730d",
   "metadata": {},
   "outputs": [
    {
     "data": {
      "text/plain": [
       "<BarContainer object of 5 artists>"
      ]
     },
     "execution_count": 87,
     "metadata": {},
     "output_type": "execute_result"
    },
    {
     "data": {
      "image/png": "[encoded data removed]",
      "text/plain": [
       "<Figure size 640x480 with 1 Axes>"
      ]
     },
     "metadata": {},
     "output_type": "display_data"
    }
   ],
   "source": [
    "plt.title('PCA variance')\n",
    "plt.xlabel('Principal Componant')\n",
    "plt.ylabel('Variance')\n",
    "plt.grid()\n",
    "plt.xticks(range(1,6))\n",
    "plt.bar(range(1,6),var,)"
   ]
  },
  {
   "cell_type": "code",
   "execution_count": 88,
   "id": "940baa91-c80b-4a56-aaec-a2a9848a2c12",
   "metadata": {},
   "outputs": [
    {
     "data": {
      "text/plain": [
       "<matplotlib.collections.PathCollection at 0x17aeeb9b490>"
      ]
     },
     "execution_count": 88,
     "metadata": {},
     "output_type": "execute_result"
    },
    {
     "data": {
      "image/png": "[encoded data removed]",
      "text/plain": [
       "<Figure size 640x480 with 1 Axes>"
      ]
     },
     "metadata": {},
     "output_type": "display_data"
    }
   ],
   "source": [
    "plt.title('PCA variance')\n",
    "plt.xlabel('PC0')\n",
    "plt.ylabel('PC1')\n",
    "plt.grid()\n",
    "plt.scatter(x_pca[:,0],x_pca[:,1])"
   ]
  },
  {
   "cell_type": "code",
   "execution_count": 89,
   "id": "1c94b8d4-fe3e-483b-9fea-ced2330f0f03",
   "metadata": {},
   "outputs": [],
   "source": [
    "#linear discriminate analysis"
   ]
  },
  {
   "cell_type": "code",
   "execution_count": 92,
   "id": "3dbcda04-9405-4801-a6f9-5d5950d874e4",
   "metadata": {},
   "outputs": [
    {
     "data": {
      "text/plain": [
       "'C:\\\\Users\\\\psagv'"
      ]
     },
     "execution_count": 92,
     "metadata": {},
     "output_type": "execute_result"
    }
   ],
   "source": [
    "import os\n",
    "os.getcwd()"
   ]
  },
  {
   "cell_type": "code",
   "execution_count": 93,
   "id": "5c5188ec-57e3-41ff-8f8b-419860f19713",
   "metadata": {},
   "outputs": [
    {
     "ename": "FileNotFoundError",
     "evalue": "[Errno 2] No such file or directory: 'wise_bc_data.csv'",
     "output_type": "error",
     "traceback": [
      "\u001b[1;31m---------------------------------------------------------------------------\u001b[0m",
      "\u001b[1;31mFileNotFoundError\u001b[0m                         Traceback (most recent call last)",
      "Cell \u001b[1;32mIn[93], line 1\u001b[0m\n\u001b[1;32m----> 1\u001b[0m df \u001b[38;5;241m=\u001b[39m pd\u001b[38;5;241m.\u001b[39mread_csv(\u001b[38;5;124m\"\u001b[39m\u001b[38;5;124mwise_bc_data.csv\u001b[39m\u001b[38;5;124m\"\u001b[39m)\n",
      "File \u001b[1;32m~\\anaconda3\\Lib\\site-packages\\pandas\\io\\parsers\\readers.py:948\u001b[0m, in \u001b[0;36mread_csv\u001b[1;34m(filepath_or_buffer, sep, delimiter, header, names, index_col, usecols, dtype, engine, converters, true_values, false_values, skipinitialspace, skiprows, skipfooter, nrows, na_values, keep_default_na, na_filter, verbose, skip_blank_lines, parse_dates, infer_datetime_format, keep_date_col, date_parser, date_format, dayfirst, cache_dates, iterator, chunksize, compression, thousands, decimal, lineterminator, quotechar, quoting, doublequote, escapechar, comment, encoding, encoding_errors, dialect, on_bad_lines, delim_whitespace, low_memory, memory_map, float_precision, storage_options, dtype_backend)\u001b[0m\n\u001b[0;32m    935\u001b[0m kwds_defaults \u001b[38;5;241m=\u001b[39m _refine_defaults_read(\n\u001b[0;32m    936\u001b[0m     dialect,\n\u001b[0;32m    937\u001b[0m     delimiter,\n\u001b[1;32m   (...)\u001b[0m\n\u001b[0;32m    944\u001b[0m     dtype_backend\u001b[38;5;241m=\u001b[39mdtype_backend,\n\u001b[0;32m    945\u001b[0m )\n\u001b[0;32m    946\u001b[0m kwds\u001b[38;5;241m.\u001b[39mupdate(kwds_defaults)\n\u001b[1;32m--> 948\u001b[0m \u001b[38;5;28;01mreturn\u001b[39;00m _read(filepath_or_buffer, kwds)\n",
      "File \u001b[1;32m~\\anaconda3\\Lib\\site-packages\\pandas\\io\\parsers\\readers.py:611\u001b[0m, in \u001b[0;36m_read\u001b[1;34m(filepath_or_buffer, kwds)\u001b[0m\n\u001b[0;32m    608\u001b[0m _validate_names(kwds\u001b[38;5;241m.\u001b[39mget(\u001b[38;5;124m\"\u001b[39m\u001b[38;5;124mnames\u001b[39m\u001b[38;5;124m\"\u001b[39m, \u001b[38;5;28;01mNone\u001b[39;00m))\n\u001b[0;32m    610\u001b[0m \u001b[38;5;66;03m# Create the parser.\u001b[39;00m\n\u001b[1;32m--> 611\u001b[0m parser \u001b[38;5;241m=\u001b[39m TextFileReader(filepath_or_buffer, \u001b[38;5;241m*\u001b[39m\u001b[38;5;241m*\u001b[39mkwds)\n\u001b[0;32m    613\u001b[0m \u001b[38;5;28;01mif\u001b[39;00m chunksize \u001b[38;5;129;01mor\u001b[39;00m iterator:\n\u001b[0;32m    614\u001b[0m     \u001b[38;5;28;01mreturn\u001b[39;00m parser\n",
      "File \u001b[1;32m~\\anaconda3\\Lib\\site-packages\\pandas\\io\\parsers\\readers.py:1448\u001b[0m, in \u001b[0;36mTextFileReader.__init__\u001b[1;34m(self, f, engine, **kwds)\u001b[0m\n\u001b[0;32m   1445\u001b[0m     \u001b[38;5;28mself\u001b[39m\u001b[38;5;241m.\u001b[39moptions[\u001b[38;5;124m\"\u001b[39m\u001b[38;5;124mhas_index_names\u001b[39m\u001b[38;5;124m\"\u001b[39m] \u001b[38;5;241m=\u001b[39m kwds[\u001b[38;5;124m\"\u001b[39m\u001b[38;5;124mhas_index_names\u001b[39m\u001b[38;5;124m\"\u001b[39m]\n\u001b[0;32m   1447\u001b[0m \u001b[38;5;28mself\u001b[39m\u001b[38;5;241m.\u001b[39mhandles: IOHandles \u001b[38;5;241m|\u001b[39m \u001b[38;5;28;01mNone\u001b[39;00m \u001b[38;5;241m=\u001b[39m \u001b[38;5;28;01mNone\u001b[39;00m\n\u001b[1;32m-> 1448\u001b[0m \u001b[38;5;28mself\u001b[39m\u001b[38;5;241m.\u001b[39m_engine \u001b[38;5;241m=\u001b[39m \u001b[38;5;28mself\u001b[39m\u001b[38;5;241m.\u001b[39m_make_engine(f, \u001b[38;5;28mself\u001b[39m\u001b[38;5;241m.\u001b[39mengine)\n",
      "File \u001b[1;32m~\\anaconda3\\Lib\\site-packages\\pandas\\io\\parsers\\readers.py:1705\u001b[0m, in \u001b[0;36mTextFileReader._make_engine\u001b[1;34m(self, f, engine)\u001b[0m\n\u001b[0;32m   1703\u001b[0m     \u001b[38;5;28;01mif\u001b[39;00m \u001b[38;5;124m\"\u001b[39m\u001b[38;5;124mb\u001b[39m\u001b[38;5;124m\"\u001b[39m \u001b[38;5;129;01mnot\u001b[39;00m \u001b[38;5;129;01min\u001b[39;00m mode:\n\u001b[0;32m   1704\u001b[0m         mode \u001b[38;5;241m+\u001b[39m\u001b[38;5;241m=\u001b[39m \u001b[38;5;124m\"\u001b[39m\u001b[38;5;124mb\u001b[39m\u001b[38;5;124m\"\u001b[39m\n\u001b[1;32m-> 1705\u001b[0m \u001b[38;5;28mself\u001b[39m\u001b[38;5;241m.\u001b[39mhandles \u001b[38;5;241m=\u001b[39m get_handle(\n\u001b[0;32m   1706\u001b[0m     f,\n\u001b[0;32m   1707\u001b[0m     mode,\n\u001b[0;32m   1708\u001b[0m     encoding\u001b[38;5;241m=\u001b[39m\u001b[38;5;28mself\u001b[39m\u001b[38;5;241m.\u001b[39moptions\u001b[38;5;241m.\u001b[39mget(\u001b[38;5;124m\"\u001b[39m\u001b[38;5;124mencoding\u001b[39m\u001b[38;5;124m\"\u001b[39m, \u001b[38;5;28;01mNone\u001b[39;00m),\n\u001b[0;32m   1709\u001b[0m     compression\u001b[38;5;241m=\u001b[39m\u001b[38;5;28mself\u001b[39m\u001b[38;5;241m.\u001b[39moptions\u001b[38;5;241m.\u001b[39mget(\u001b[38;5;124m\"\u001b[39m\u001b[38;5;124mcompression\u001b[39m\u001b[38;5;124m\"\u001b[39m, \u001b[38;5;28;01mNone\u001b[39;00m),\n\u001b[0;32m   1710\u001b[0m     memory_map\u001b[38;5;241m=\u001b[39m\u001b[38;5;28mself\u001b[39m\u001b[38;5;241m.\u001b[39moptions\u001b[38;5;241m.\u001b[39mget(\u001b[38;5;124m\"\u001b[39m\u001b[38;5;124mmemory_map\u001b[39m\u001b[38;5;124m\"\u001b[39m, \u001b[38;5;28;01mFalse\u001b[39;00m),\n\u001b[0;32m   1711\u001b[0m     is_text\u001b[38;5;241m=\u001b[39mis_text,\n\u001b[0;32m   1712\u001b[0m     errors\u001b[38;5;241m=\u001b[39m\u001b[38;5;28mself\u001b[39m\u001b[38;5;241m.\u001b[39moptions\u001b[38;5;241m.\u001b[39mget(\u001b[38;5;124m\"\u001b[39m\u001b[38;5;124mencoding_errors\u001b[39m\u001b[38;5;124m\"\u001b[39m, \u001b[38;5;124m\"\u001b[39m\u001b[38;5;124mstrict\u001b[39m\u001b[38;5;124m\"\u001b[39m),\n\u001b[0;32m   1713\u001b[0m     storage_options\u001b[38;5;241m=\u001b[39m\u001b[38;5;28mself\u001b[39m\u001b[38;5;241m.\u001b[39moptions\u001b[38;5;241m.\u001b[39mget(\u001b[38;5;124m\"\u001b[39m\u001b[38;5;124mstorage_options\u001b[39m\u001b[38;5;124m\"\u001b[39m, \u001b[38;5;28;01mNone\u001b[39;00m),\n\u001b[0;32m   1714\u001b[0m )\n\u001b[0;32m   1715\u001b[0m \u001b[38;5;28;01massert\u001b[39;00m \u001b[38;5;28mself\u001b[39m\u001b[38;5;241m.\u001b[39mhandles \u001b[38;5;129;01mis\u001b[39;00m \u001b[38;5;129;01mnot\u001b[39;00m \u001b[38;5;28;01mNone\u001b[39;00m\n\u001b[0;32m   1716\u001b[0m f \u001b[38;5;241m=\u001b[39m \u001b[38;5;28mself\u001b[39m\u001b[38;5;241m.\u001b[39mhandles\u001b[38;5;241m.\u001b[39mhandle\n",
      "File \u001b[1;32m~\\anaconda3\\Lib\\site-packages\\pandas\\io\\common.py:863\u001b[0m, in \u001b[0;36mget_handle\u001b[1;34m(path_or_buf, mode, encoding, compression, memory_map, is_text, errors, storage_options)\u001b[0m\n\u001b[0;32m    858\u001b[0m \u001b[38;5;28;01melif\u001b[39;00m \u001b[38;5;28misinstance\u001b[39m(handle, \u001b[38;5;28mstr\u001b[39m):\n\u001b[0;32m    859\u001b[0m     \u001b[38;5;66;03m# Check whether the filename is to be opened in binary mode.\u001b[39;00m\n\u001b[0;32m    860\u001b[0m     \u001b[38;5;66;03m# Binary mode does not support 'encoding' and 'newline'.\u001b[39;00m\n\u001b[0;32m    861\u001b[0m     \u001b[38;5;28;01mif\u001b[39;00m ioargs\u001b[38;5;241m.\u001b[39mencoding \u001b[38;5;129;01mand\u001b[39;00m \u001b[38;5;124m\"\u001b[39m\u001b[38;5;124mb\u001b[39m\u001b[38;5;124m\"\u001b[39m \u001b[38;5;129;01mnot\u001b[39;00m \u001b[38;5;129;01min\u001b[39;00m ioargs\u001b[38;5;241m.\u001b[39mmode:\n\u001b[0;32m    862\u001b[0m         \u001b[38;5;66;03m# Encoding\u001b[39;00m\n\u001b[1;32m--> 863\u001b[0m         handle \u001b[38;5;241m=\u001b[39m \u001b[38;5;28mopen\u001b[39m(\n\u001b[0;32m    864\u001b[0m             handle,\n\u001b[0;32m    865\u001b[0m             ioargs\u001b[38;5;241m.\u001b[39mmode,\n\u001b[0;32m    866\u001b[0m             encoding\u001b[38;5;241m=\u001b[39mioargs\u001b[38;5;241m.\u001b[39mencoding,\n\u001b[0;32m    867\u001b[0m             errors\u001b[38;5;241m=\u001b[39merrors,\n\u001b[0;32m    868\u001b[0m             newline\u001b[38;5;241m=\u001b[39m\u001b[38;5;124m\"\u001b[39m\u001b[38;5;124m\"\u001b[39m,\n\u001b[0;32m    869\u001b[0m         )\n\u001b[0;32m    870\u001b[0m     \u001b[38;5;28;01melse\u001b[39;00m:\n\u001b[0;32m    871\u001b[0m         \u001b[38;5;66;03m# Binary mode\u001b[39;00m\n\u001b[0;32m    872\u001b[0m         handle \u001b[38;5;241m=\u001b[39m \u001b[38;5;28mopen\u001b[39m(handle, ioargs\u001b[38;5;241m.\u001b[39mmode)\n",
      "\u001b[1;31mFileNotFoundError\u001b[0m: [Errno 2] No such file or directory: 'wise_bc_data.csv'"
     ]
    }
   ],
   "source": [
    "df = pd.read_csv(\"wise_bc_data.csv\")"
   ]
  },
  {
   "cell_type": "code",
   "execution_count": 94,
   "id": "641ae864-66f8-412e-9760-01aa6472cda3",
   "metadata": {},
   "outputs": [
    {
     "data": {
      "text/html": [
       "<div>\n",
       "<style scoped>\n",
       "    .dataframe tbody tr th:only-of-type {\n",
       "        vertical-align: middle;\n",
       "    }\n",
       "\n",
       "    .dataframe tbody tr th {\n",
       "        vertical-align: top;\n",
       "    }\n",
       "\n",
       "    .dataframe thead th {\n",
       "        text-align: right;\n",
       "    }\n",
       "</style>\n",
       "<table border=\"1\" class=\"dataframe\">\n",
       "  <thead>\n",
       "    <tr style=\"text-align: right;\">\n",
       "      <th></th>\n",
       "      <th>id</th>\n",
       "      <th>diagnosis</th>\n",
       "      <th>radius_mean</th>\n",
       "      <th>texture_mean</th>\n",
       "      <th>perimeter_mean</th>\n",
       "      <th>area_mean</th>\n",
       "      <th>smoothness_mean</th>\n",
       "      <th>compactness_mean</th>\n",
       "      <th>concavity_mean</th>\n",
       "      <th>concave points_mean</th>\n",
       "      <th>...</th>\n",
       "      <th>radius_worst</th>\n",
       "      <th>texture_worst</th>\n",
       "      <th>perimeter_worst</th>\n",
       "      <th>area_worst</th>\n",
       "      <th>smoothness_worst</th>\n",
       "      <th>compactness_worst</th>\n",
       "      <th>concavity_worst</th>\n",
       "      <th>concave points_worst</th>\n",
       "      <th>symmetry_worst</th>\n",
       "      <th>fractal_dimension_worst</th>\n",
       "    </tr>\n",
       "  </thead>\n",
       "  <tbody>\n",
       "    <tr>\n",
       "      <th>0</th>\n",
       "      <td>842302</td>\n",
       "      <td>M</td>\n",
       "      <td>17.99</td>\n",
       "      <td>10.38</td>\n",
       "      <td>122.80</td>\n",
       "      <td>1001.0</td>\n",
       "      <td>0.11840</td>\n",
       "      <td>0.27760</td>\n",
       "      <td>0.30010</td>\n",
       "      <td>0.14710</td>\n",
       "      <td>...</td>\n",
       "      <td>25.380</td>\n",
       "      <td>17.33</td>\n",
       "      <td>184.60</td>\n",
       "      <td>2019.0</td>\n",
       "      <td>0.16220</td>\n",
       "      <td>0.66560</td>\n",
       "      <td>0.7119</td>\n",
       "      <td>0.2654</td>\n",
       "      <td>0.4601</td>\n",
       "      <td>0.11890</td>\n",
       "    </tr>\n",
       "    <tr>\n",
       "      <th>1</th>\n",
       "      <td>842517</td>\n",
       "      <td>M</td>\n",
       "      <td>20.57</td>\n",
       "      <td>17.77</td>\n",
       "      <td>132.90</td>\n",
       "      <td>1326.0</td>\n",
       "      <td>0.08474</td>\n",
       "      <td>0.07864</td>\n",
       "      <td>0.08690</td>\n",
       "      <td>0.07017</td>\n",
       "      <td>...</td>\n",
       "      <td>24.990</td>\n",
       "      <td>23.41</td>\n",
       "      <td>158.80</td>\n",
       "      <td>1956.0</td>\n",
       "      <td>0.12380</td>\n",
       "      <td>0.18660</td>\n",
       "      <td>0.2416</td>\n",
       "      <td>0.1860</td>\n",
       "      <td>0.2750</td>\n",
       "      <td>0.08902</td>\n",
       "    </tr>\n",
       "    <tr>\n",
       "      <th>2</th>\n",
       "      <td>84300903</td>\n",
       "      <td>M</td>\n",
       "      <td>19.69</td>\n",
       "      <td>21.25</td>\n",
       "      <td>130.00</td>\n",
       "      <td>1203.0</td>\n",
       "      <td>0.10960</td>\n",
       "      <td>0.15990</td>\n",
       "      <td>0.19740</td>\n",
       "      <td>0.12790</td>\n",
       "      <td>...</td>\n",
       "      <td>23.570</td>\n",
       "      <td>25.53</td>\n",
       "      <td>152.50</td>\n",
       "      <td>1709.0</td>\n",
       "      <td>0.14440</td>\n",
       "      <td>0.42450</td>\n",
       "      <td>0.4504</td>\n",
       "      <td>0.2430</td>\n",
       "      <td>0.3613</td>\n",
       "      <td>0.08758</td>\n",
       "    </tr>\n",
       "    <tr>\n",
       "      <th>3</th>\n",
       "      <td>84348301</td>\n",
       "      <td>M</td>\n",
       "      <td>11.42</td>\n",
       "      <td>20.38</td>\n",
       "      <td>77.58</td>\n",
       "      <td>386.1</td>\n",
       "      <td>0.14250</td>\n",
       "      <td>0.28390</td>\n",
       "      <td>0.24140</td>\n",
       "      <td>0.10520</td>\n",
       "      <td>...</td>\n",
       "      <td>14.910</td>\n",
       "      <td>26.50</td>\n",
       "      <td>98.87</td>\n",
       "      <td>567.7</td>\n",
       "      <td>0.20980</td>\n",
       "      <td>0.86630</td>\n",
       "      <td>0.6869</td>\n",
       "      <td>0.2575</td>\n",
       "      <td>0.6638</td>\n",
       "      <td>0.17300</td>\n",
       "    </tr>\n",
       "    <tr>\n",
       "      <th>4</th>\n",
       "      <td>84358402</td>\n",
       "      <td>M</td>\n",
       "      <td>20.29</td>\n",
       "      <td>14.34</td>\n",
       "      <td>135.10</td>\n",
       "      <td>1297.0</td>\n",
       "      <td>0.10030</td>\n",
       "      <td>0.13280</td>\n",
       "      <td>0.19800</td>\n",
       "      <td>0.10430</td>\n",
       "      <td>...</td>\n",
       "      <td>22.540</td>\n",
       "      <td>16.67</td>\n",
       "      <td>152.20</td>\n",
       "      <td>1575.0</td>\n",
       "      <td>0.13740</td>\n",
       "      <td>0.20500</td>\n",
       "      <td>0.4000</td>\n",
       "      <td>0.1625</td>\n",
       "      <td>0.2364</td>\n",
       "      <td>0.07678</td>\n",
       "    </tr>\n",
       "    <tr>\n",
       "      <th>...</th>\n",
       "      <td>...</td>\n",
       "      <td>...</td>\n",
       "      <td>...</td>\n",
       "      <td>...</td>\n",
       "      <td>...</td>\n",
       "      <td>...</td>\n",
       "      <td>...</td>\n",
       "      <td>...</td>\n",
       "      <td>...</td>\n",
       "      <td>...</td>\n",
       "      <td>...</td>\n",
       "      <td>...</td>\n",
       "      <td>...</td>\n",
       "      <td>...</td>\n",
       "      <td>...</td>\n",
       "      <td>...</td>\n",
       "      <td>...</td>\n",
       "      <td>...</td>\n",
       "      <td>...</td>\n",
       "      <td>...</td>\n",
       "      <td>...</td>\n",
       "    </tr>\n",
       "    <tr>\n",
       "      <th>564</th>\n",
       "      <td>926424</td>\n",
       "      <td>M</td>\n",
       "      <td>21.56</td>\n",
       "      <td>22.39</td>\n",
       "      <td>142.00</td>\n",
       "      <td>1479.0</td>\n",
       "      <td>0.11100</td>\n",
       "      <td>0.11590</td>\n",
       "      <td>0.24390</td>\n",
       "      <td>0.13890</td>\n",
       "      <td>...</td>\n",
       "      <td>25.450</td>\n",
       "      <td>26.40</td>\n",
       "      <td>166.10</td>\n",
       "      <td>2027.0</td>\n",
       "      <td>0.14100</td>\n",
       "      <td>0.21130</td>\n",
       "      <td>0.4107</td>\n",
       "      <td>0.2216</td>\n",
       "      <td>0.2060</td>\n",
       "      <td>0.07115</td>\n",
       "    </tr>\n",
       "    <tr>\n",
       "      <th>565</th>\n",
       "      <td>926682</td>\n",
       "      <td>M</td>\n",
       "      <td>20.13</td>\n",
       "      <td>28.25</td>\n",
       "      <td>131.20</td>\n",
       "      <td>1261.0</td>\n",
       "      <td>0.09780</td>\n",
       "      <td>0.10340</td>\n",
       "      <td>0.14400</td>\n",
       "      <td>0.09791</td>\n",
       "      <td>...</td>\n",
       "      <td>23.690</td>\n",
       "      <td>38.25</td>\n",
       "      <td>155.00</td>\n",
       "      <td>1731.0</td>\n",
       "      <td>0.11660</td>\n",
       "      <td>0.19220</td>\n",
       "      <td>0.3215</td>\n",
       "      <td>0.1628</td>\n",
       "      <td>0.2572</td>\n",
       "      <td>0.06637</td>\n",
       "    </tr>\n",
       "    <tr>\n",
       "      <th>566</th>\n",
       "      <td>926954</td>\n",
       "      <td>M</td>\n",
       "      <td>16.60</td>\n",
       "      <td>28.08</td>\n",
       "      <td>108.30</td>\n",
       "      <td>858.1</td>\n",
       "      <td>0.08455</td>\n",
       "      <td>0.10230</td>\n",
       "      <td>0.09251</td>\n",
       "      <td>0.05302</td>\n",
       "      <td>...</td>\n",
       "      <td>18.980</td>\n",
       "      <td>34.12</td>\n",
       "      <td>126.70</td>\n",
       "      <td>1124.0</td>\n",
       "      <td>0.11390</td>\n",
       "      <td>0.30940</td>\n",
       "      <td>0.3403</td>\n",
       "      <td>0.1418</td>\n",
       "      <td>0.2218</td>\n",
       "      <td>0.07820</td>\n",
       "    </tr>\n",
       "    <tr>\n",
       "      <th>567</th>\n",
       "      <td>927241</td>\n",
       "      <td>M</td>\n",
       "      <td>20.60</td>\n",
       "      <td>29.33</td>\n",
       "      <td>140.10</td>\n",
       "      <td>1265.0</td>\n",
       "      <td>0.11780</td>\n",
       "      <td>0.27700</td>\n",
       "      <td>0.35140</td>\n",
       "      <td>0.15200</td>\n",
       "      <td>...</td>\n",
       "      <td>25.740</td>\n",
       "      <td>39.42</td>\n",
       "      <td>184.60</td>\n",
       "      <td>1821.0</td>\n",
       "      <td>0.16500</td>\n",
       "      <td>0.86810</td>\n",
       "      <td>0.9387</td>\n",
       "      <td>0.2650</td>\n",
       "      <td>0.4087</td>\n",
       "      <td>0.12400</td>\n",
       "    </tr>\n",
       "    <tr>\n",
       "      <th>568</th>\n",
       "      <td>92751</td>\n",
       "      <td>B</td>\n",
       "      <td>7.76</td>\n",
       "      <td>24.54</td>\n",
       "      <td>47.92</td>\n",
       "      <td>181.0</td>\n",
       "      <td>0.05263</td>\n",
       "      <td>0.04362</td>\n",
       "      <td>0.00000</td>\n",
       "      <td>0.00000</td>\n",
       "      <td>...</td>\n",
       "      <td>9.456</td>\n",
       "      <td>30.37</td>\n",
       "      <td>59.16</td>\n",
       "      <td>268.6</td>\n",
       "      <td>0.08996</td>\n",
       "      <td>0.06444</td>\n",
       "      <td>0.0000</td>\n",
       "      <td>0.0000</td>\n",
       "      <td>0.2871</td>\n",
       "      <td>0.07039</td>\n",
       "    </tr>\n",
       "  </tbody>\n",
       "</table>\n",
       "<p>569 rows × 32 columns</p>\n",
       "</div>"
      ],
      "text/plain": [
       "           id diagnosis  radius_mean  texture_mean  perimeter_mean  area_mean  \\\n",
       "0      842302         M        17.99         10.38          122.80     1001.0   \n",
       "1      842517         M        20.57         17.77          132.90     1326.0   \n",
       "2    84300903         M        19.69         21.25          130.00     1203.0   \n",
       "3    84348301         M        11.42         20.38           77.58      386.1   \n",
       "4    84358402         M        20.29         14.34          135.10     1297.0   \n",
       "..        ...       ...          ...           ...             ...        ...   \n",
       "564    926424         M        21.56         22.39          142.00     1479.0   \n",
       "565    926682         M        20.13         28.25          131.20     1261.0   \n",
       "566    926954         M        16.60         28.08          108.30      858.1   \n",
       "567    927241         M        20.60         29.33          140.10     1265.0   \n",
       "568     92751         B         7.76         24.54           47.92      181.0   \n",
       "\n",
       "     smoothness_mean  compactness_mean  concavity_mean  concave points_mean  \\\n",
       "0            0.11840           0.27760         0.30010              0.14710   \n",
       "1            0.08474           0.07864         0.08690              0.07017   \n",
       "2            0.10960           0.15990         0.19740              0.12790   \n",
       "3            0.14250           0.28390         0.24140              0.10520   \n",
       "4            0.10030           0.13280         0.19800              0.10430   \n",
       "..               ...               ...             ...                  ...   \n",
       "564          0.11100           0.11590         0.24390              0.13890   \n",
       "565          0.09780           0.10340         0.14400              0.09791   \n",
       "566          0.08455           0.10230         0.09251              0.05302   \n",
       "567          0.11780           0.27700         0.35140              0.15200   \n",
       "568          0.05263           0.04362         0.00000              0.00000   \n",
       "\n",
       "     ...  radius_worst  texture_worst  perimeter_worst  area_worst  \\\n",
       "0    ...        25.380          17.33           184.60      2019.0   \n",
       "1    ...        24.990          23.41           158.80      1956.0   \n",
       "2    ...        23.570          25.53           152.50      1709.0   \n",
       "3    ...        14.910          26.50            98.87       567.7   \n",
       "4    ...        22.540          16.67           152.20      1575.0   \n",
       "..   ...           ...            ...              ...         ...   \n",
       "564  ...        25.450          26.40           166.10      2027.0   \n",
       "565  ...        23.690          38.25           155.00      1731.0   \n",
       "566  ...        18.980          34.12           126.70      1124.0   \n",
       "567  ...        25.740          39.42           184.60      1821.0   \n",
       "568  ...         9.456          30.37            59.16       268.6   \n",
       "\n",
       "     smoothness_worst  compactness_worst  concavity_worst  \\\n",
       "0             0.16220            0.66560           0.7119   \n",
       "1             0.12380            0.18660           0.2416   \n",
       "2             0.14440            0.42450           0.4504   \n",
       "3             0.20980            0.86630           0.6869   \n",
       "4             0.13740            0.20500           0.4000   \n",
       "..                ...                ...              ...   \n",
       "564           0.14100            0.21130           0.4107   \n",
       "565           0.11660            0.19220           0.3215   \n",
       "566           0.11390            0.30940           0.3403   \n",
       "567           0.16500            0.86810           0.9387   \n",
       "568           0.08996            0.06444           0.0000   \n",
       "\n",
       "     concave points_worst  symmetry_worst  fractal_dimension_worst  \n",
       "0                  0.2654          0.4601                  0.11890  \n",
       "1                  0.1860          0.2750                  0.08902  \n",
       "2                  0.2430          0.3613                  0.08758  \n",
       "3                  0.2575          0.6638                  0.17300  \n",
       "4                  0.1625          0.2364                  0.07678  \n",
       "..                    ...             ...                      ...  \n",
       "564                0.2216          0.2060                  0.07115  \n",
       "565                0.1628          0.2572                  0.06637  \n",
       "566                0.1418          0.2218                  0.07820  \n",
       "567                0.2650          0.4087                  0.12400  \n",
       "568                0.0000          0.2871                  0.07039  \n",
       "\n",
       "[569 rows x 32 columns]"
      ]
     },
     "execution_count": 94,
     "metadata": {},
     "output_type": "execute_result"
    }
   ],
   "source": [
    "df"
   ]
  },
  {
   "cell_type": "code",
   "execution_count": 95,
   "id": "d6f29003-286d-4e0e-a439-c81b511cae86",
   "metadata": {},
   "outputs": [],
   "source": [
    "#input variables\n",
    "x = df.drop(['id','diagnosis'],axis = 1)\n",
    "\n",
    "#output Variable\n",
    "y = df['diagnosis']"
   ]
  },
  {
   "cell_type": "code",
   "execution_count": 96,
   "id": "f074f4b5-b7ca-4ee7-92cf-70a5f9554ee8",
   "metadata": {},
   "outputs": [
    {
     "data": {
      "text/plain": [
       "(569, 30)"
      ]
     },
     "execution_count": 96,
     "metadata": {},
     "output_type": "execute_result"
    }
   ],
   "source": [
    "x.shape"
   ]
  },
  {
   "cell_type": "code",
   "execution_count": 97,
   "id": "2d7ea620-7e16-438f-9766-8e040860a234",
   "metadata": {},
   "outputs": [
    {
     "data": {
      "text/plain": [
       "diagnosis\n",
       "B    357\n",
       "M    212\n",
       "Name: count, dtype: int64"
      ]
     },
     "execution_count": 97,
     "metadata": {},
     "output_type": "execute_result"
    }
   ],
   "source": [
    "y.value_counts()"
   ]
  },
  {
   "cell_type": "code",
   "execution_count": 98,
   "id": "74c5bc4d-9d3b-4c25-b03b-c8b687e0667a",
   "metadata": {},
   "outputs": [],
   "source": [
    "#standardize the data"
   ]
  },
  {
   "cell_type": "code",
   "execution_count": 99,
   "id": "58885b94-0d48-4ef0-90a7-3c9d92ecf7d2",
   "metadata": {},
   "outputs": [],
   "source": [
    "from sklearn.preprocessing import StandardScaler"
   ]
  },
  {
   "cell_type": "code",
   "execution_count": 100,
   "id": "97324093-e1e5-4198-996a-af2bafde6671",
   "metadata": {},
   "outputs": [],
   "source": [
    "scaler = StandardScaler()"
   ]
  },
  {
   "cell_type": "code",
   "execution_count": 101,
   "id": "0562baad-e27f-4b14-a006-fbe558aa818f",
   "metadata": {},
   "outputs": [],
   "source": [
    "x_scaled = scaler.fit_transform(x)"
   ]
  },
  {
   "cell_type": "code",
   "execution_count": 102,
   "id": "9562bf72-333f-43ec-b527-2fff481028cc",
   "metadata": {},
   "outputs": [
    {
     "data": {
      "text/plain": [
       "array([[ 1.09706398, -2.07333501,  1.26993369, ...,  2.29607613,\n",
       "         2.75062224,  1.93701461],\n",
       "       [ 1.82982061, -0.35363241,  1.68595471, ...,  1.0870843 ,\n",
       "        -0.24388967,  0.28118999],\n",
       "       [ 1.57988811,  0.45618695,  1.56650313, ...,  1.95500035,\n",
       "         1.152255  ,  0.20139121],\n",
       "       ...,\n",
       "       [ 0.70228425,  2.0455738 ,  0.67267578, ...,  0.41406869,\n",
       "        -1.10454895, -0.31840916],\n",
       "       [ 1.83834103,  2.33645719,  1.98252415, ...,  2.28998549,\n",
       "         1.91908301,  2.21963528],\n",
       "       [-1.80840125,  1.22179204, -1.81438851, ..., -1.74506282,\n",
       "        -0.04813821, -0.75120669]])"
      ]
     },
     "execution_count": 102,
     "metadata": {},
     "output_type": "execute_result"
    }
   ],
   "source": [
    "x_scaled"
   ]
  },
  {
   "cell_type": "code",
   "execution_count": 103,
   "id": "f54cf896-5324-4761-b0b6-a0a49de3cb25",
   "metadata": {},
   "outputs": [],
   "source": [
    "#Apply the LDA"
   ]
  },
  {
   "cell_type": "code",
   "execution_count": 104,
   "id": "39b2069c-c8ec-4e1b-93cd-bc2f35ae8958",
   "metadata": {},
   "outputs": [],
   "source": [
    "from sklearn.discriminant_analysis import LinearDiscriminantAnalysis"
   ]
  },
  {
   "cell_type": "code",
   "execution_count": 105,
   "id": "77e34d7c-a429-4121-bb26-ae18385fe0d6",
   "metadata": {},
   "outputs": [],
   "source": [
    "lda = LinearDiscriminantAnalysis(n_components = 1)"
   ]
  },
  {
   "cell_type": "code",
   "execution_count": 106,
   "id": "6d003b6e-a68a-47ef-b237-1482b5372e65",
   "metadata": {},
   "outputs": [],
   "source": [
    "x_lda = lda.fit_transform(x,y)"
   ]
  },
  {
   "cell_type": "code",
   "execution_count": 107,
   "id": "0fa0eecc-3e58-47eb-9c2d-f55e88a6e958",
   "metadata": {},
   "outputs": [
    {
     "data": {
      "text/plain": [
       "(569, 1)"
      ]
     },
     "execution_count": 107,
     "metadata": {},
     "output_type": "execute_result"
    }
   ],
   "source": [
    "x_lda.shape"
   ]
  },
  {
   "cell_type": "code",
   "execution_count": 108,
   "id": "b85a2d13-7d5c-405c-ab31-adf50c676a4f",
   "metadata": {},
   "outputs": [
    {
     "data": {
      "text/plain": [
       "array([[ 3.32392717e+00],\n",
       "       [ 2.31910801e+00],\n",
       "       [ 3.74742484e+00],\n",
       "       [ 4.04854946e+00],\n",
       "       [ 2.28115767e+00],\n",
       "       [ 1.61150348e+00],\n",
       "       [ 2.35653128e+00],\n",
       "       [ 1.28122316e+00],\n",
       "       [ 1.60828074e+00],\n",
       "       [ 3.86266690e+00],\n",
       "       [ 8.64980964e-01],\n",
       "       [ 2.39981887e+00],\n",
       "       [ 1.32670638e+00],\n",
       "       [ 4.20145181e-01],\n",
       "       [ 1.25084871e+00],\n",
       "       [ 3.06625368e+00],\n",
       "       [ 2.11049829e+00],\n",
       "       [ 3.17780841e+00],\n",
       "       [ 3.43796946e+00],\n",
       "       [-2.23125867e-01],\n",
       "       [-1.97973275e+00],\n",
       "       [-2.46635453e+00],\n",
       "       [ 1.79100127e+00],\n",
       "       [ 3.02554197e+00],\n",
       "       [ 3.87178737e+00],\n",
       "       [ 3.99524140e+00],\n",
       "       [ 2.74537482e+00],\n",
       "       [ 2.57652189e+00],\n",
       "       [ 3.07566630e+00],\n",
       "       [ 8.02258881e-01],\n",
       "       [ 3.41613522e+00],\n",
       "       [ 2.67943316e+00],\n",
       "       [ 3.63987363e+00],\n",
       "       [ 3.07550539e+00],\n",
       "       [ 2.68840028e+00],\n",
       "       [ 2.57312945e+00],\n",
       "       [ 1.07380321e+00],\n",
       "       [-1.87492316e+00],\n",
       "       [-4.90632982e-01],\n",
       "       [ 9.39621143e-01],\n",
       "       [-2.32245369e-01],\n",
       "       [ 2.90130296e-01],\n",
       "       [ 4.10554121e+00],\n",
       "       [ 1.46251896e+00],\n",
       "       [ 1.41036456e+00],\n",
       "       [ 3.44544604e+00],\n",
       "       [-3.27853344e+00],\n",
       "       [ 2.17816685e+00],\n",
       "       [-1.29143024e+00],\n",
       "       [-3.01628230e-01],\n",
       "       [-1.62796296e+00],\n",
       "       [-1.48830672e+00],\n",
       "       [-1.48280073e+00],\n",
       "       [ 1.45951018e+00],\n",
       "       [ 9.10778815e-01],\n",
       "       [-9.82044019e-01],\n",
       "       [ 3.13734003e+00],\n",
       "       [ 1.98133858e+00],\n",
       "       [-1.62708153e+00],\n",
       "       [-2.61236500e+00],\n",
       "       [-2.36846010e+00],\n",
       "       [-2.59329164e+00],\n",
       "       [ 2.45106183e+00],\n",
       "       [-2.34513269e+00],\n",
       "       [ 2.52007465e+00],\n",
       "       [ 1.44030488e+00],\n",
       "       [-1.74906617e+00],\n",
       "       [-1.34490018e+00],\n",
       "       [-1.18122253e+00],\n",
       "       [-1.53320482e+00],\n",
       "       [ 2.46577406e+00],\n",
       "       [-3.07777448e+00],\n",
       "       [ 3.70043921e+00],\n",
       "       [ 1.04662975e-01],\n",
       "       [-1.22621663e+00],\n",
       "       [ 2.18019556e+00],\n",
       "       [-1.15935804e+00],\n",
       "       [ 2.00180599e+00],\n",
       "       [ 4.05003808e+00],\n",
       "       [-1.50764827e+00],\n",
       "       [-8.64627083e-01],\n",
       "       [ 1.13512727e+00],\n",
       "       [ 4.76077510e+00],\n",
       "       [ 2.10113195e+00],\n",
       "       [-9.28378662e-01],\n",
       "       [ 3.31833913e+00],\n",
       "       [ 6.02588153e-01],\n",
       "       [ 4.50871123e+00],\n",
       "       [-1.46051925e-01],\n",
       "       [-1.79833480e-01],\n",
       "       [-7.20022125e-01],\n",
       "       [ 6.42615223e-01],\n",
       "       [-4.91547269e-01],\n",
       "       [-1.09179675e+00],\n",
       "       [ 1.89175663e+00],\n",
       "       [ 3.09969764e+00],\n",
       "       [-1.69675838e+00],\n",
       "       [-1.96092680e+00],\n",
       "       [-1.34222363e+00],\n",
       "       [ 7.30049465e-01],\n",
       "       [ 1.10533524e+00],\n",
       "       [-3.92939001e+00],\n",
       "       [-1.06773833e+00],\n",
       "       [-1.88665691e+00],\n",
       "       [-2.50780113e+00],\n",
       "       [ 2.25365735e+00],\n",
       "       [-3.01710017e-01],\n",
       "       [-1.78338727e+00],\n",
       "       [ 5.44879169e+00],\n",
       "       [-2.95817208e-01],\n",
       "       [-1.60634590e+00],\n",
       "       [-4.37404373e-01],\n",
       "       [-1.08487628e+00],\n",
       "       [-2.46964626e+00],\n",
       "       [-2.25545101e+00],\n",
       "       [-1.04252712e+00],\n",
       "       [-3.76329178e+00],\n",
       "       [ 2.43842667e+00],\n",
       "       [ 3.79025997e+00],\n",
       "       [ 2.03385672e+00],\n",
       "       [-1.56053228e+00],\n",
       "       [ 2.53260507e+00],\n",
       "       [ 3.87010774e+00],\n",
       "       [-8.67818366e-01],\n",
       "       [-1.56401482e+00],\n",
       "       [-1.54821908e+00],\n",
       "       [ 1.15691547e+00],\n",
       "       [ 1.40268103e+00],\n",
       "       [-5.07900435e-01],\n",
       "       [ 2.91575231e+00],\n",
       "       [-1.57992974e+00],\n",
       "       [ 1.83060350e+00],\n",
       "       [ 1.07160830e+00],\n",
       "       [ 1.46504157e-02],\n",
       "       [ 2.36979740e+00],\n",
       "       [ 8.38279299e-02],\n",
       "       [-1.42174189e+00],\n",
       "       [-2.10828229e+00],\n",
       "       [ 3.33527344e+00],\n",
       "       [-2.21779973e+00],\n",
       "       [-3.17155094e+00],\n",
       "       [ 1.29732825e+00],\n",
       "       [-1.92784590e+00],\n",
       "       [-9.60202566e-01],\n",
       "       [-2.70326046e+00],\n",
       "       [-1.80535744e+00],\n",
       "       [ 1.21100366e+00],\n",
       "       [-6.55082208e-01],\n",
       "       [-3.22185109e-01],\n",
       "       [-1.64786837e+00],\n",
       "       [-9.90619575e-01],\n",
       "       [-1.23218453e+00],\n",
       "       [-2.12427926e+00],\n",
       "       [-2.02205384e+00],\n",
       "       [ 1.61703802e-01],\n",
       "       [-1.01101767e+00],\n",
       "       [ 1.73559634e+00],\n",
       "       [-6.20675561e-01],\n",
       "       [-1.86859109e+00],\n",
       "       [-2.09867920e+00],\n",
       "       [-1.12631506e+00],\n",
       "       [ 2.25810292e+00],\n",
       "       [ 4.13314895e+00],\n",
       "       [-8.32168276e-01],\n",
       "       [ 3.47624199e+00],\n",
       "       [-1.33920244e+00],\n",
       "       [-2.81559160e+00],\n",
       "       [ 1.50812814e+00],\n",
       "       [ 3.48191517e+00],\n",
       "       [-1.24161191e+00],\n",
       "       [-1.31748271e+00],\n",
       "       [ 1.35461865e+00],\n",
       "       [ 1.98936000e+00],\n",
       "       [-1.94789932e+00],\n",
       "       [-2.76110153e+00],\n",
       "       [-3.53098368e+00],\n",
       "       [-1.59855655e+00],\n",
       "       [ 1.55702167e+00],\n",
       "       [-2.00268108e+00],\n",
       "       [-1.89654983e+00],\n",
       "       [ 4.43977759e+00],\n",
       "       [ 4.16249144e+00],\n",
       "       [ 1.82421847e+00],\n",
       "       [-2.45794363e+00],\n",
       "       [ 3.66455948e-01],\n",
       "       [-1.36882364e+00],\n",
       "       [ 1.11580384e+00],\n",
       "       [-1.20494456e+00],\n",
       "       [-1.72515838e+00],\n",
       "       [-2.37190063e+00],\n",
       "       [ 9.18126155e-01],\n",
       "       [-1.05223817e+00],\n",
       "       [-3.81962435e+00],\n",
       "       [ 2.06283345e+00],\n",
       "       [ 1.22258757e-02],\n",
       "       [-1.40313643e+00],\n",
       "       [ 2.61086225e+00],\n",
       "       [ 1.86815639e-01],\n",
       "       [ 1.99239993e+00],\n",
       "       [ 2.31487372e+00],\n",
       "       [-8.11008088e-02],\n",
       "       [ 1.70837811e+00],\n",
       "       [ 4.39173527e+00],\n",
       "       [ 3.69565604e+00],\n",
       "       [ 3.04467937e-02],\n",
       "       [ 7.58645776e-01],\n",
       "       [-2.48138848e+00],\n",
       "       [ 1.09969807e+00],\n",
       "       [-1.17334994e-01],\n",
       "       [-4.35759761e-01],\n",
       "       [ 2.47731974e+00],\n",
       "       [-1.73205741e+00],\n",
       "       [ 3.40702171e+00],\n",
       "       [ 1.55738761e+00],\n",
       "       [ 2.96201378e+00],\n",
       "       [ 3.97967071e-01],\n",
       "       [-9.91247029e-01],\n",
       "       [-2.38234717e+00],\n",
       "       [ 3.20073743e+00],\n",
       "       [ 3.11908584e+00],\n",
       "       [-1.46823969e+00],\n",
       "       [-1.29303625e+00],\n",
       "       [-2.13256092e+00],\n",
       "       [ 2.78954434e+00],\n",
       "       [-5.60908145e-01],\n",
       "       [-7.40158072e-02],\n",
       "       [-2.75472800e+00],\n",
       "       [-9.08395913e-01],\n",
       "       [ 2.48405082e-02],\n",
       "       [ 1.48335657e+00],\n",
       "       [ 2.31008228e+00],\n",
       "       [-2.12192155e+00],\n",
       "       [-1.15421908e+00],\n",
       "       [ 2.72266503e+00],\n",
       "       [-1.59994536e+00],\n",
       "       [-7.65256169e-01],\n",
       "       [ 3.95062910e+00],\n",
       "       [ 2.12172696e+00],\n",
       "       [-1.23983248e-02],\n",
       "       [ 4.30524692e+00],\n",
       "       [-9.24292251e-01],\n",
       "       [-2.26646990e+00],\n",
       "       [-3.01320353e-01],\n",
       "       [-1.22943301e+00],\n",
       "       [ 2.44822950e+00],\n",
       "       [-2.59925345e-01],\n",
       "       [-1.33668452e+00],\n",
       "       [-6.55749560e-01],\n",
       "       [-8.77960836e-01],\n",
       "       [-1.59582074e+00],\n",
       "       [ 3.56459843e+00],\n",
       "       [-1.41544904e+00],\n",
       "       [ 4.76082908e+00],\n",
       "       [ 1.73820370e+00],\n",
       "       [ 3.40832934e+00],\n",
       "       [ 2.19814950e-01],\n",
       "       [ 3.06872034e+00],\n",
       "       [ 2.49631828e+00],\n",
       "       [ 3.13711039e+00],\n",
       "       [ 3.60787108e+00],\n",
       "       [ 3.09226521e+00],\n",
       "       [ 3.26729331e-01],\n",
       "       [ 1.56255867e+00],\n",
       "       [-1.85509749e-02],\n",
       "       [ 2.37832305e+00],\n",
       "       [ 2.82196128e+00],\n",
       "       [-1.76692788e+00],\n",
       "       [-1.46065095e+00],\n",
       "       [-1.31031936e+00],\n",
       "       [-2.39838420e+00],\n",
       "       [-2.07526584e+00],\n",
       "       [-2.00211069e+00],\n",
       "       [ 3.08204320e+00],\n",
       "       [-1.54729826e+00],\n",
       "       [ 1.63855957e+00],\n",
       "       [-1.80804266e-01],\n",
       "       [-2.37509496e+00],\n",
       "       [ 9.99904638e-01],\n",
       "       [-1.23357791e+00],\n",
       "       [-1.02420480e+00],\n",
       "       [ 3.99093891e+00],\n",
       "       [-2.98149432e-01],\n",
       "       [ 3.35288863e+00],\n",
       "       [ 1.29972339e+00],\n",
       "       [-1.85416867e+00],\n",
       "       [-2.13791905e+00],\n",
       "       [-1.12756242e+00],\n",
       "       [-2.29630789e+00],\n",
       "       [-8.29620592e-01],\n",
       "       [-1.27235357e+00],\n",
       "       [-1.02841646e+00],\n",
       "       [-1.17784998e-03],\n",
       "       [-3.90107039e-01],\n",
       "       [-1.03989028e+00],\n",
       "       [-2.59475081e+00],\n",
       "       [-1.96836284e+00],\n",
       "       [-3.32824900e+00],\n",
       "       [-9.65743308e-01],\n",
       "       [-8.54088561e-01],\n",
       "       [-2.30405443e+00],\n",
       "       [ 4.05842775e+00],\n",
       "       [-1.71492065e+00],\n",
       "       [ 3.47427234e+00],\n",
       "       [-2.44225178e+00],\n",
       "       [-2.20479094e+00],\n",
       "       [-1.60132850e+00],\n",
       "       [-2.02802399e+00],\n",
       "       [-2.91385875e+00],\n",
       "       [-2.37083856e+00],\n",
       "       [-1.88770020e+00],\n",
       "       [-1.58403977e+00],\n",
       "       [-9.49689351e-01],\n",
       "       [-1.53323053e+00],\n",
       "       [-2.86658487e+00],\n",
       "       [-2.29313015e+00],\n",
       "       [-2.60207587e+00],\n",
       "       [-2.67494619e+00],\n",
       "       [ 1.83479964e+00],\n",
       "       [-2.12882632e+00],\n",
       "       [-1.96725372e+00],\n",
       "       [-1.50450639e+00],\n",
       "       [ 1.63730399e+00],\n",
       "       [-1.36727425e+00],\n",
       "       [ 5.15622503e+00],\n",
       "       [-1.71335708e+00],\n",
       "       [-1.90816159e+00],\n",
       "       [-1.35171640e+00],\n",
       "       [-2.27600590e+00],\n",
       "       [ 1.98641642e+00],\n",
       "       [ 1.28758298e+00],\n",
       "       [ 1.34439600e+00],\n",
       "       [-1.00267542e+00],\n",
       "       [-1.65031960e+00],\n",
       "       [-2.15452758e+00],\n",
       "       [-1.41422726e+00],\n",
       "       [ 2.97262771e+00],\n",
       "       [-2.39949269e+00],\n",
       "       [ 3.11145435e+00],\n",
       "       [-2.06463796e+00],\n",
       "       [ 4.08976782e+00],\n",
       "       [-1.09751418e-01],\n",
       "       [-1.95914933e+00],\n",
       "       [-1.59592781e+00],\n",
       "       [ 3.76755196e+00],\n",
       "       [-1.03963412e+00],\n",
       "       [-1.96543727e+00],\n",
       "       [-1.22405347e+00],\n",
       "       [ 1.83626902e-01],\n",
       "       [-1.29956257e+00],\n",
       "       [-2.79287528e+00],\n",
       "       [-1.49850700e+00],\n",
       "       [ 2.19278625e+00],\n",
       "       [ 4.48648072e+00],\n",
       "       [ 2.96192814e+00],\n",
       "       [-2.50404461e+00],\n",
       "       [-1.37110304e+00],\n",
       "       [-6.79993553e-01],\n",
       "       [-1.26570589e+00],\n",
       "       [-2.39796390e+00],\n",
       "       [-1.31444923e+00],\n",
       "       [-2.00187505e+00],\n",
       "       [-1.41033864e+00],\n",
       "       [-1.57636634e+00],\n",
       "       [-4.50208573e-02],\n",
       "       [-1.47637569e+00],\n",
       "       [ 2.00542196e+00],\n",
       "       [ 4.10208285e+00],\n",
       "       [-7.55125006e-01],\n",
       "       [ 1.55010340e+00],\n",
       "       [ 3.70205737e+00],\n",
       "       [ 3.31606097e+00],\n",
       "       [-1.53304461e+00],\n",
       "       [ 1.97178420e+00],\n",
       "       [ 2.92396410e+00],\n",
       "       [-1.29133345e+00],\n",
       "       [-9.13980871e-01],\n",
       "       [-2.21130923e+00],\n",
       "       [-9.69175380e-01],\n",
       "       [-8.86073774e-01],\n",
       "       [ 1.46888629e+00],\n",
       "       [-6.19537594e-01],\n",
       "       [-2.23270497e+00],\n",
       "       [-1.80334103e+00],\n",
       "       [-1.23398341e+00],\n",
       "       [-1.93087187e+00],\n",
       "       [ 9.07501623e-01],\n",
       "       [-1.67296525e+00],\n",
       "       [-1.71813063e+00],\n",
       "       [-2.36545925e+00],\n",
       "       [ 2.83562432e+00],\n",
       "       [-2.68013532e+00],\n",
       "       [-2.41726778e+00],\n",
       "       [ 3.52721542e+00],\n",
       "       [ 4.25915974e+00],\n",
       "       [-1.36818619e+00],\n",
       "       [-1.21148685e+00],\n",
       "       [-5.63957464e-01],\n",
       "       [-1.92418930e+00],\n",
       "       [-1.76508920e+00],\n",
       "       [-1.44422439e+00],\n",
       "       [ 3.09896109e+00],\n",
       "       [-1.47238730e+00],\n",
       "       [-1.82418531e+00],\n",
       "       [-1.83940877e+00],\n",
       "       [-1.79888426e+00],\n",
       "       [-1.09677965e+00],\n",
       "       [-4.61846302e-01],\n",
       "       [-1.18092714e+00],\n",
       "       [ 2.20522994e+00],\n",
       "       [-5.14644565e-01],\n",
       "       [-6.75914158e-01],\n",
       "       [-1.72056197e+00],\n",
       "       [-3.08785382e+00],\n",
       "       [ 3.70011716e-01],\n",
       "       [ 9.62884013e-01],\n",
       "       [-1.11796526e+00],\n",
       "       [-8.74050117e-01],\n",
       "       [ 3.70007545e+00],\n",
       "       [-1.24939609e+00],\n",
       "       [-1.64317529e+00],\n",
       "       [-1.36663951e+00],\n",
       "       [-5.08760087e-01],\n",
       "       [-1.76615905e+00],\n",
       "       [-4.80097336e-01],\n",
       "       [-1.12564171e+00],\n",
       "       [-2.27939337e+00],\n",
       "       [-1.61581512e+00],\n",
       "       [-7.38995213e-01],\n",
       "       [-2.56142491e+00],\n",
       "       [-1.79546575e+00],\n",
       "       [ 1.60085955e+00],\n",
       "       [-2.34967076e+00],\n",
       "       [ 3.10298364e+00],\n",
       "       [ 2.77383243e+00],\n",
       "       [-7.62391449e-01],\n",
       "       [ 1.81499196e+00],\n",
       "       [-1.02376497e+00],\n",
       "       [-4.53476544e-01],\n",
       "       [-8.93148626e-01],\n",
       "       [-1.65106372e+00],\n",
       "       [-9.76529889e-01],\n",
       "       [ 2.28295523e+00],\n",
       "       [-2.01469858e+00],\n",
       "       [-2.47199749e+00],\n",
       "       [ 5.35945345e-01],\n",
       "       [-4.66393872e-01],\n",
       "       [ 3.14843727e+00],\n",
       "       [-7.55291262e-01],\n",
       "       [-2.70681568e-01],\n",
       "       [ 3.23202078e+00],\n",
       "       [-1.70161229e+00],\n",
       "       [ 2.46036663e+00],\n",
       "       [-8.51763231e-01],\n",
       "       [-4.83087809e-01],\n",
       "       [-9.01296291e-01],\n",
       "       [-1.14992267e-01],\n",
       "       [-4.70013231e-01],\n",
       "       [-8.79422349e-01],\n",
       "       [-1.13324857e+00],\n",
       "       [-2.06913176e+00],\n",
       "       [ 3.27416756e+00],\n",
       "       [ 3.12154877e+00],\n",
       "       [-9.30290925e-01],\n",
       "       [-1.25468196e+00],\n",
       "       [-7.66361165e-01],\n",
       "       [-6.97411216e-02],\n",
       "       [-3.32063274e-01],\n",
       "       [-1.72671165e+00],\n",
       "       [ 2.97241698e+00],\n",
       "       [-1.12421860e-01],\n",
       "       [-1.56385822e+00],\n",
       "       [-5.63022271e-01],\n",
       "       [-5.11634040e-01],\n",
       "       [-1.17589792e+00],\n",
       "       [-2.28006080e+00],\n",
       "       [-1.28080210e+00],\n",
       "       [-5.96188868e-01],\n",
       "       [-1.58876873e+00],\n",
       "       [-2.01966817e+00],\n",
       "       [ 9.56858057e-01],\n",
       "       [-1.93192097e+00],\n",
       "       [-4.22772998e-01],\n",
       "       [-9.61385198e-01],\n",
       "       [-1.38711684e+00],\n",
       "       [-4.15590354e-01],\n",
       "       [-9.95705956e-01],\n",
       "       [-7.64441201e-01],\n",
       "       [ 3.82616433e+00],\n",
       "       [-1.00187693e+00],\n",
       "       [ 7.05168676e-01],\n",
       "       [-6.64701333e-01],\n",
       "       [-5.55121708e-01],\n",
       "       [ 1.93396827e+00],\n",
       "       [-1.88912803e+00],\n",
       "       [-9.99238846e-01],\n",
       "       [-4.55829471e-01],\n",
       "       [-4.07717872e-01],\n",
       "       [-1.23440031e+00],\n",
       "       [ 2.50952543e+00],\n",
       "       [ 3.02127481e+00],\n",
       "       [-1.00599090e+00],\n",
       "       [ 1.86731712e+00],\n",
       "       [-1.15920806e+00],\n",
       "       [ 3.87566859e+00],\n",
       "       [-2.66577109e+00],\n",
       "       [-1.68936564e+00],\n",
       "       [-1.57538696e+00],\n",
       "       [-1.11071899e+00],\n",
       "       [-9.52683110e-02],\n",
       "       [ 2.02207424e+00],\n",
       "       [-1.65073963e+00],\n",
       "       [-1.28877564e+00],\n",
       "       [ 1.89818808e+00],\n",
       "       [-5.77512569e-01],\n",
       "       [-2.81522039e-03],\n",
       "       [-1.49522023e+00],\n",
       "       [ 2.30655699e+00],\n",
       "       [ 2.57064791e+00],\n",
       "       [-1.37374594e+00],\n",
       "       [-1.13132969e+00],\n",
       "       [-1.52698725e+00],\n",
       "       [ 3.64356730e+00],\n",
       "       [-2.50284790e+00],\n",
       "       [-4.05313715e-01],\n",
       "       [-2.05823897e+00],\n",
       "       [-2.60639252e+00],\n",
       "       [-6.34943845e-01],\n",
       "       [-1.54120476e+00],\n",
       "       [-3.35357081e-01],\n",
       "       [-1.70658201e+00],\n",
       "       [-7.76429121e-01],\n",
       "       [-1.08056534e+00],\n",
       "       [-1.22560572e+00],\n",
       "       [ 2.28441352e+00],\n",
       "       [-2.15720323e+00],\n",
       "       [ 2.73016067e+00],\n",
       "       [ 2.68417932e-01],\n",
       "       [-5.45675204e-01],\n",
       "       [-1.91014556e+00],\n",
       "       [-2.68633390e+00],\n",
       "       [-2.41246256e+00],\n",
       "       [ 6.38582648e-01],\n",
       "       [ 2.94446273e-02],\n",
       "       [-7.82091431e-01],\n",
       "       [-1.59886331e+00],\n",
       "       [-6.97270276e-01],\n",
       "       [-2.58678310e+00],\n",
       "       [-1.94968682e+00],\n",
       "       [-2.07309610e+00],\n",
       "       [-8.00249687e-01],\n",
       "       [-2.41282993e+00],\n",
       "       [-1.92088883e+00],\n",
       "       [-4.29191722e-01],\n",
       "       [-2.49654430e+00],\n",
       "       [-5.87490340e-01],\n",
       "       [-1.22909551e+00],\n",
       "       [-2.83081523e+00],\n",
       "       [-1.95223534e+00],\n",
       "       [-1.50959124e+00],\n",
       "       [-9.61333483e-01],\n",
       "       [-3.29689868e-01],\n",
       "       [-2.35569625e+00],\n",
       "       [ 4.13595241e+00],\n",
       "       [ 3.80757376e+00],\n",
       "       [ 4.52546810e+00],\n",
       "       [ 2.92858813e+00],\n",
       "       [ 9.68061830e-01],\n",
       "       [ 5.87964271e+00],\n",
       "       [-2.73058961e+00]])"
      ]
     },
     "execution_count": 108,
     "metadata": {},
     "output_type": "execute_result"
    }
   ],
   "source": [
    "x_lda"
   ]
  }
 ],
 "metadata": {
  "kernelspec": {
   "display_name": "Python 3 (ipykernel)",
   "language": "python",
   "name": "python3"
  },
  "language_info": {
   "codemirror_mode": {
    "name": "ipython",
    "version": 3
   },
   "file_extension": ".py",
   "mimetype": "text/x-python",
   "name": "python",
   "nbconvert_exporter": "python",
   "pygments_lexer": "ipython3",
   "version": "3.11.7"
  }
 },
 "nbformat": 4,
 "nbformat_minor": 5
}
